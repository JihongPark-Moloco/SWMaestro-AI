{
 "cells": [
  {
   "cell_type": "code",
   "execution_count": 2,
   "metadata": {
    "collapsed": true,
    "pycharm": {
     "name": "#%%\n"
    }
   },
   "outputs": [],
   "source": [
    "import matplotlib.pyplot as plt\n",
    "import pandas as pd\n",
    "import psycopg2 as pg2\n",
    "%matplotlib inline"
   ]
  },
  {
   "cell_type": "code",
   "execution_count": 5,
   "metadata": {
    "pycharm": {
     "name": "#%%\n"
    }
   },
   "outputs": [],
   "source": [
    "\n",
    "def pre(df):\n",
    "    Q1 = df['views'].quantile(0.25)\n",
    "    Q3 = df['views'].quantile(0.75)\n",
    "    IQR = Q3 - Q1    #IQR is interquartile range.\n",
    "\n",
    "    return (df['views'] >= Q1 - 1.5 * IQR) & (df['views'] <= Q3 + 1.5 *IQR)\n",
    "\n",
    "conn = pg2.connect(\n",
    "        database=\"createtrend\",\n",
    "        user=\"muna\",\n",
    "        password=\"muna112358!\",\n",
    "        host=\"ec2-13-124-107-195.ap-northeast-2.compute.amazonaws.com\",\n",
    "        port=\"5432\",\n",
    "    )\n"
   ]
  },
  {
   "cell_type": "code",
   "execution_count": 16,
   "metadata": {
    "pycharm": {
     "name": "#%%\n"
    }
   },
   "outputs": [],
   "source": [
    "df = pd.read_sql(\"\"\"SELECT *\n",
    "FROM (SELECT video.idx,\n",
    "             video_name || ' ' || logo as names,\n",
    "             video_name,\n",
    "             video_description,\n",
    "             video_id,\n",
    "             upload_time,\n",
    "             channel_idx,\n",
    "--              processed,\n",
    "             thumbnail_url,\n",
    "--              thumbnail_processed,\n",
    "--              forbidden,\n",
    "--              status,\n",
    "             popularity,\n",
    "             logo,\n",
    "             jvv.views,\n",
    "             check_time\n",
    "      FROM video\n",
    "               JOIN thumbnail_logo tl ON video.idx = tl.video_idx\n",
    "               JOIN (SELECT DISTINCT ON (vv.video_idx) vv.views, vv.video_idx, vv.check_time\n",
    "                     FROM video_views AS vv\n",
    "                     GROUP BY vv.video_idx, vv.views, vv.check_time\n",
    "                     ORDER BY vv.video_idx, vv.check_time DESC) AS jvv ON video.idx = jvv.video_idx) joined_vv\n",
    "WHERE channel_idx IN);\"\"\", con=conn)\n"
   ]
  },
  {
   "cell_type": "code",
   "execution_count": 18,
   "metadata": {
    "pycharm": {
     "name": "#%%\n"
    }
   },
   "outputs": [
    {
     "data": {
      "text/plain": [
       "<AxesSubplot:>"
      ]
     },
     "execution_count": 18,
     "metadata": {},
     "output_type": "execute_result"
    },
    {
     "data": {
      "image/png": "[encoded data removed]",
      "text/plain": [
       "<Figure size 432x288 with 1 Axes>"
      ]
     },
     "metadata": {
      "needs_background": "light"
     },
     "output_type": "display_data"
    }
   ],
   "source": [
    "df.boxplot('views')"
   ]
  },
  {
   "cell_type": "code",
   "execution_count": 34,
   "metadata": {
    "pycharm": {
     "name": "#%%\n"
    }
   },
   "outputs": [
    {
     "data": {
      "text/plain": [
       "{'whiskers': [<matplotlib.lines.Line2D at 0x147b211aa48>,\n",
       "  <matplotlib.lines.Line2D at 0x147647ca388>,\n",
       "  <matplotlib.lines.Line2D at 0x147c5fdb148>,\n",
       "  <matplotlib.lines.Line2D at 0x147db3cb348>],\n",
       " 'caps': [<matplotlib.lines.Line2D at 0x147b2124308>,\n",
       "  <matplotlib.lines.Line2D at 0x147b2124848>,\n",
       "  <matplotlib.lines.Line2D at 0x147c5fdbd08>,\n",
       "  <matplotlib.lines.Line2D at 0x147fa201408>],\n",
       " 'boxes': [<matplotlib.lines.Line2D at 0x147fbebd588>,\n",
       "  <matplotlib.lines.Line2D at 0x147db3cb288>],\n",
       " 'medians': [<matplotlib.lines.Line2D at 0x147db3cb548>,\n",
       "  <matplotlib.lines.Line2D at 0x147fa201b48>],\n",
       " 'fliers': [],\n",
       " 'means': [<matplotlib.lines.Line2D at 0x147db3cb588>,\n",
       "  <matplotlib.lines.Line2D at 0x147fa201688>]}"
      ]
     },
     "execution_count": 34,
     "metadata": {},
     "output_type": "execute_result"
    },
    {
     "data": {
      "image/png": "[encoded data removed]",
      "text/plain": [
       "<Figure size 432x288 with 1 Axes>"
      ]
     },
     "metadata": {
      "needs_background": "light"
     },
     "output_type": "display_data"
    }
   ],
   "source": [
    "Q1 = df['views'].quantile(0.25)\n",
    "Q3 = df['views'].quantile(0.75)\n",
    "IQR = Q3 - Q1    #IQR is interquartile range.\n",
    "\n",
    "filter = (df['views'] >= Q1 - 1.5 * IQR) & (df['views'] <= Q3 + 1.5 *IQR)\n",
    "plt.boxplot ([df['views'],df.loc[filter]['views']], meanline=True, showmeans=True, showcaps=True,\n",
    "                showbox=True, showfliers=False)\n",
    "\n"
   ]
  },
  {
   "cell_type": "markdown",
   "metadata": {},
   "source": [
    "상위 50%의 채널에 대한 조회수 box와 outlier를 1차적으로 제거한 box"
   ]
  },
  {
   "cell_type": "code",
   "execution_count": 35,
   "metadata": {
    "pycharm": {
     "name": "#%%\n"
    }
   },
   "outputs": [],
   "source": [
    "df_movie_channel = pd.read_sql(\"\"\"SELECT *\n",
    "FROM (SELECT video.idx,\n",
    "             video_name || ' ' || logo as names,\n",
    "             video_name,\n",
    "             video_description,\n",
    "             video_id,\n",
    "             upload_time,\n",
    "             channel_idx,\n",
    "             thumbnail_url,\n",
    "             popularity,\n",
    "             logo,\n",
    "             jvv.views,\n",
    "             check_time\n",
    "      FROM video\n",
    "               JOIN thumbnail_logo tl ON video.idx = tl.video_idx\n",
    "               JOIN (SELECT DISTINCT ON (vv.video_idx) vv.views, vv.video_idx, vv.check_time\n",
    "                     FROM video_views AS vv\n",
    "                     GROUP BY vv.video_idx, vv.views, vv.check_time\n",
    "                     ORDER BY vv.video_idx, vv.check_time DESC) AS jvv ON video.idx = jvv.video_idx) joined_vv\n",
    "WHERE channel_idx IN (12, 148, 156, 60, 17, 26, 94, 168, 55, 1588, 14, 133, 51, 161, 23, 70, 99, 211, 119, 30, 95, 117, 29, 83, 123,\n",
    "       113, 38, 103, 147, 124, 220, 263, 215, 122, 66, 201, 71, 72, 163, 153, 2, 80, 182, 207, 76, 89, 172, 98, 9, 197);\"\"\", con=conn)\n",
    "\n"
   ]
  },
  {
   "cell_type": "code",
   "execution_count": 41,
   "metadata": {
    "pycharm": {
     "name": "#%%\n"
    }
   },
   "outputs": [
    {
     "data": {
      "text/plain": [
       "{'whiskers': [<matplotlib.lines.Line2D at 0x147b17d0588>,\n",
       "  <matplotlib.lines.Line2D at 0x147d614bc08>,\n",
       "  <matplotlib.lines.Line2D at 0x147b75e6b48>,\n",
       "  <matplotlib.lines.Line2D at 0x147aa3c9888>],\n",
       " 'caps': [<matplotlib.lines.Line2D at 0x147d6138d08>,\n",
       "  <matplotlib.lines.Line2D at 0x147d6138ac8>,\n",
       "  <matplotlib.lines.Line2D at 0x147aa3c90c8>,\n",
       "  <matplotlib.lines.Line2D at 0x147b5143d88>],\n",
       " 'boxes': [<matplotlib.lines.Line2D at 0x147d614be08>,\n",
       "  <matplotlib.lines.Line2D at 0x147c2996988>],\n",
       " 'medians': [<matplotlib.lines.Line2D at 0x147d6138e88>,\n",
       "  <matplotlib.lines.Line2D at 0x147fb5cfd08>],\n",
       " 'fliers': [],\n",
       " 'means': [<matplotlib.lines.Line2D at 0x147b4ca3448>,\n",
       "  <matplotlib.lines.Line2D at 0x147cd3ded88>]}"
      ]
     },
     "execution_count": 41,
     "metadata": {},
     "output_type": "execute_result"
    },
    {
     "data": {
      "image/png": "[encoded data removed]",
      "text/plain": [
       "<Figure size 432x288 with 1 Axes>"
      ]
     },
     "metadata": {
      "needs_background": "light"
     },
     "output_type": "display_data"
    }
   ],
   "source": [
    "df_mc_filter = pre(df_movie_channel)\n",
    "\n",
    "plt.boxplot ([df_movie_channel['views'],df_movie_channel.loc[df_mc_filter]['views']], meanline=True, showmeans=True, showcaps=True,\n",
    "                showbox=True, showfliers=False)"
   ]
  },
  {
   "cell_type": "markdown",
   "metadata": {
    "pycharm": {
     "name": "#%% md\n"
    }
   },
   "source": [
    "영화 채널, 영화 채널 (oulier 제거)"
   ]
  },
  {
   "cell_type": "code",
   "execution_count": 42,
   "metadata": {
    "pycharm": {
     "name": "#%%\n"
    }
   },
   "outputs": [
    {
     "data": {
      "text/plain": [
       "{'whiskers': [<matplotlib.lines.Line2D at 0x147cf3db448>,\n",
       "  <matplotlib.lines.Line2D at 0x147de9617c8>,\n",
       "  <matplotlib.lines.Line2D at 0x147df217288>,\n",
       "  <matplotlib.lines.Line2D at 0x147df2178c8>],\n",
       " 'caps': [<matplotlib.lines.Line2D at 0x147de94fc88>,\n",
       "  <matplotlib.lines.Line2D at 0x147de94eec8>,\n",
       "  <matplotlib.lines.Line2D at 0x147b8857ec8>,\n",
       "  <matplotlib.lines.Line2D at 0x147b8857cc8>],\n",
       " 'boxes': [<matplotlib.lines.Line2D at 0x147de9611c8>,\n",
       "  <matplotlib.lines.Line2D at 0x147b885d048>],\n",
       " 'medians': [<matplotlib.lines.Line2D at 0x147de93aa08>,\n",
       "  <matplotlib.lines.Line2D at 0x147b8832908>],\n",
       " 'fliers': [],\n",
       " 'means': [<matplotlib.lines.Line2D at 0x147de965648>,\n",
       "  <matplotlib.lines.Line2D at 0x147b883df08>]}"
      ]
     },
     "execution_count": 42,
     "metadata": {},
     "output_type": "execute_result"
    },
    {
     "data": {
      "image/png": "[encoded data removed]",
      "text/plain": [
       "<Figure size 432x288 with 1 Axes>"
      ]
     },
     "metadata": {
      "needs_background": "light"
     },
     "output_type": "display_data"
    }
   ],
   "source": [
    "df_movie_channel_shock = pd.read_sql(\"\"\"SELECT *\n",
    "FROM (SELECT video.idx,\n",
    "             video_name || ' ' || logo as names,\n",
    "             video_name,\n",
    "             video_description,\n",
    "             video_id,\n",
    "             upload_time,\n",
    "             channel_idx,\n",
    "             thumbnail_url,\n",
    "             popularity,\n",
    "             logo,\n",
    "             jvv.views,\n",
    "             check_time\n",
    "      FROM video\n",
    "               JOIN thumbnail_logo tl ON video.idx = tl.video_idx\n",
    "               JOIN (SELECT DISTINCT ON (vv.video_idx) vv.views, vv.video_idx, vv.check_time\n",
    "                     FROM video_views AS vv\n",
    "                     GROUP BY vv.video_idx, vv.views, vv.check_time\n",
    "                     ORDER BY vv.video_idx, vv.check_time DESC) AS jvv ON video.idx = jvv.video_idx) joined_vv\n",
    "WHERE (names ~ '.*충[ ]*격.*' OR names ~ '.*실[ ]*화.*')\n",
    "  AND channel_idx IN\n",
    "      (12, 148, 156, 60, 17, 26, 94, 168, 55, 1588, 14, 133, 51, 161, 23, 70, 99, 211, 119, 30, 95, 117, 29, 83, 123,\n",
    "       113, 38, 103, 147, 124, 220, 263, 215, 122, 66, 201, 71, 72, 163, 153, 2, 80, 182, 207, 76, 89, 172, 98, 9, 197);\"\"\", con=conn)\n",
    "\n",
    "df_mcs_filter = pre(df_movie_channel_shock)\n",
    "plt.boxplot ([df_movie_channel.loc[df_mc_filter]['views'],df_movie_channel_shock.loc[df_mcs_filter]['views']], meanline=True, showmeans=True, showcaps=True,\n",
    "                showbox=True, showfliers=False)"
   ]
  },
  {
   "cell_type": "markdown",
   "source": [
    "영화 채널의 조회수 분포, 충격 실화 키워드가 포함도니 영상의 조회수 분포"
   ],
   "metadata": {
    "collapsed": false,
    "pycharm": {
     "name": "#%% md\n"
    }
   }
  },
  {
   "cell_type": "code",
   "execution_count": 59,
   "outputs": [
    {
     "data": {
      "text/plain": "{'whiskers': [<matplotlib.lines.Line2D at 0x147dbc01c88>,\n  <matplotlib.lines.Line2D at 0x147d092be88>,\n  <matplotlib.lines.Line2D at 0x147b4e39ac8>,\n  <matplotlib.lines.Line2D at 0x147abc8fb48>],\n 'caps': [<matplotlib.lines.Line2D at 0x147d092be08>,\n  <matplotlib.lines.Line2D at 0x147d092bfc8>,\n  <matplotlib.lines.Line2D at 0x147b4e39e08>,\n  <matplotlib.lines.Line2D at 0x147d65a0808>],\n 'boxes': [<matplotlib.lines.Line2D at 0x147d092b4c8>,\n  <matplotlib.lines.Line2D at 0x147abc8fdc8>],\n 'medians': [<matplotlib.lines.Line2D at 0x147abc8fc88>,\n  <matplotlib.lines.Line2D at 0x147d65a0c88>],\n 'fliers': [],\n 'means': [<matplotlib.lines.Line2D at 0x147abc8fc48>,\n  <matplotlib.lines.Line2D at 0x147d65a0c08>]}"
     },
     "execution_count": 59,
     "metadata": {},
     "output_type": "execute_result"
    },
    {
     "data": {
      "text/plain": "<Figure size 432x288 with 1 Axes>",
      "image/png": "[encoded data removed]"
     },
     "metadata": {
      "needs_background": "light"
     },
     "output_type": "display_data"
    }
   ],
   "source": [
    "plt.boxplot ([df_movie_channel['views'],df_movie_channel_shock['views']], meanline=True, showmeans=True, showcaps=True,\n",
    "                showbox=True, showfliers=False)"
   ],
   "metadata": {
    "collapsed": false,
    "pycharm": {
     "name": "#%%\n"
    }
   }
  },
  {
   "cell_type": "code",
   "execution_count": 43,
   "metadata": {
    "pycharm": {
     "name": "#%%\n"
    }
   },
   "outputs": [
    {
     "data": {
      "text/plain": [
       "{'whiskers': [<matplotlib.lines.Line2D at 0x147cf3a2808>,\n",
       "  <matplotlib.lines.Line2D at 0x147cf3cc848>,\n",
       "  <matplotlib.lines.Line2D at 0x147cf3dba88>,\n",
       "  <matplotlib.lines.Line2D at 0x147de954fc8>],\n",
       " 'caps': [<matplotlib.lines.Line2D at 0x147b8830e48>,\n",
       "  <matplotlib.lines.Line2D at 0x147b8830b48>,\n",
       "  <matplotlib.lines.Line2D at 0x147cf3af308>,\n",
       "  <matplotlib.lines.Line2D at 0x147cf3d9308>],\n",
       " 'boxes': [<matplotlib.lines.Line2D at 0x147cf3cc408>,\n",
       "  <matplotlib.lines.Line2D at 0x147de954908>],\n",
       " 'medians': [<matplotlib.lines.Line2D at 0x147cf3b9f48>,\n",
       "  <matplotlib.lines.Line2D at 0x147cf3d9148>],\n",
       " 'fliers': [],\n",
       " 'means': [<matplotlib.lines.Line2D at 0x147cf3b9d08>,\n",
       "  <matplotlib.lines.Line2D at 0x147bc207488>]}"
      ]
     },
     "execution_count": 43,
     "metadata": {},
     "output_type": "execute_result"
    },
    {
     "data": {
      "image/png": "[encoded data removed]",
      "text/plain": [
       "<Figure size 432x288 with 1 Axes>"
      ]
     },
     "metadata": {
      "needs_background": "light"
     },
     "output_type": "display_data"
    }
   ],
   "source": [
    "df_movie_channel_final = pd.read_sql(\"\"\"SELECT *\n",
    "FROM (SELECT video.idx,\n",
    "             video_name || ' ' || logo as names,\n",
    "             video_name,\n",
    "             video_description,\n",
    "             video_id,\n",
    "             upload_time,\n",
    "             channel_idx,\n",
    "             thumbnail_url,\n",
    "             popularity,\n",
    "             logo,\n",
    "             jvv.views,\n",
    "             check_time\n",
    "      FROM video\n",
    "               JOIN thumbnail_logo tl ON video.idx = tl.video_idx\n",
    "               JOIN (SELECT DISTINCT ON (vv.video_idx) vv.views, vv.video_idx, vv.check_time\n",
    "                     FROM video_views AS vv\n",
    "                     GROUP BY vv.video_idx, vv.views, vv.check_time\n",
    "                     ORDER BY vv.video_idx, vv.check_time DESC) AS jvv ON video.idx = jvv.video_idx) joined_vv\n",
    "WHERE (names ~ '.*결[ ]*말.*' OR names ~ '.*엔[ ]*딩.*' )\n",
    "  AND channel_idx IN\n",
    "      (12, 148, 156, 60, 17, 26, 94, 168, 55, 1588, 14, 133, 51, 161, 23, 70, 99, 211, 119, 30, 95, 117, 29, 83, 123,\n",
    "       113, 38, 103, 147, 124, 220, 263, 215, 122, 66, 201, 71, 72, 163, 153, 2, 80, 182, 207, 76, 89, 172, 98, 9, 197);\"\"\", con=conn)\n",
    "\n",
    "df_mcf_filter = pre(df_movie_channel_final)\n",
    "plt.boxplot ([df_movie_channel.loc[df_mc_filter]['views'],df_movie_channel_final.loc[df_mcf_filter]['views']], meanline=True, showmeans=True, showcaps=True,\n",
    "                showbox=True, showfliers=False)\n",
    "\n"
   ]
  },
  {
   "cell_type": "markdown",
   "metadata": {
    "pycharm": {
     "name": "#%% md\n"
    }
   },
   "source": [
    "영화 채널 영상, 영화 채널 중 결말 포함 영상"
   ]
  },
  {
   "cell_type": "code",
   "execution_count": 45,
   "metadata": {
    "pycharm": {
     "name": "#%%\n"
    }
   },
   "outputs": [
    {
     "data": {
      "text/plain": [
       "{'whiskers': [<matplotlib.lines.Line2D at 0x147db1cd748>,\n",
       "  <matplotlib.lines.Line2D at 0x147d9555948>,\n",
       "  <matplotlib.lines.Line2D at 0x147adf85dc8>,\n",
       "  <matplotlib.lines.Line2D at 0x147adf85608>],\n",
       " 'caps': [<matplotlib.lines.Line2D at 0x147d9555dc8>,\n",
       "  <matplotlib.lines.Line2D at 0x147d9555d48>,\n",
       "  <matplotlib.lines.Line2D at 0x147ac1e7e08>,\n",
       "  <matplotlib.lines.Line2D at 0x147ac1e7d88>],\n",
       " 'boxes': [<matplotlib.lines.Line2D at 0x147bc1f9e88>,\n",
       "  <matplotlib.lines.Line2D at 0x147adf85d08>],\n",
       " 'medians': [<matplotlib.lines.Line2D at 0x147d9555f08>,\n",
       "  <matplotlib.lines.Line2D at 0x147ac1e7f48>],\n",
       " 'fliers': [],\n",
       " 'means': [<matplotlib.lines.Line2D at 0x147adf85bc8>,\n",
       "  <matplotlib.lines.Line2D at 0x147ac1f7bc8>]}"
      ]
     },
     "execution_count": 45,
     "metadata": {},
     "output_type": "execute_result"
    },
    {
     "data": {
      "image/png": "[encoded data removed]",
      "text/plain": [
       "<Figure size 432x288 with 1 Axes>"
      ]
     },
     "metadata": {
      "needs_background": "light"
     },
     "output_type": "display_data"
    }
   ],
   "source": [
    "df_mask_video = pd.read_sql(\"\"\"SELECT *\n",
    "FROM (SELECT video.idx,\n",
    "             video_name || ' ' || logo as names,\n",
    "             video_name,\n",
    "             video_description,\n",
    "             video_id,\n",
    "             upload_time,\n",
    "             channel_idx,\n",
    "             thumbnail_url,\n",
    "             popularity,\n",
    "             logo,\n",
    "             jvv.views,\n",
    "             check_time\n",
    "      FROM video\n",
    "               JOIN thumbnail_logo tl ON video.idx = tl.video_idx\n",
    "               JOIN (SELECT DISTINCT ON (vv.video_idx) vv.views, vv.video_idx, vv.check_time\n",
    "                     FROM video_views AS vv\n",
    "                     GROUP BY vv.video_idx, vv.views, vv.check_time\n",
    "                     ORDER BY vv.video_idx, vv.check_time DESC) AS jvv ON video.idx = jvv.video_idx) joined_vv\n",
    "WHERE (names ~ '.*x{2}.*' OR names ~ '.*X{2}.*' OR names ~ '.*\\?{3}[ ]*:.*' or names ~ '.* 0{3}.*' or\n",
    "       names ~ '.* o{3}.*' or names ~ '.* O{3}.*')\"\"\", con=conn)\n",
    "\n",
    "df_mask_video_all_video = pd.read_sql(\"\"\"\n",
    "SELECT video.idx,\n",
    "       video_name || ' ' || logo as names,\n",
    "       video_name,\n",
    "       video_description,\n",
    "       video_id,\n",
    "       upload_time,\n",
    "       channel_idx,\n",
    "       thumbnail_url,\n",
    "       popularity,\n",
    "       logo,\n",
    "       jvv.views,\n",
    "       check_time\n",
    "FROM video\n",
    "         JOIN thumbnail_logo tl ON video.idx = tl.video_idx\n",
    "         JOIN (SELECT DISTINCT ON (vv.video_idx) vv.views, vv.video_idx, vv.check_time\n",
    "               FROM video_views AS vv\n",
    "               GROUP BY vv.video_idx, vv.views, vv.check_time\n",
    "               ORDER BY vv.video_idx, vv.check_time DESC) AS jvv\n",
    "              ON video.idx = jvv.video_idx\n",
    "WHERE channel_idx IN (SELECT temp.channel_idx\n",
    "                      FROM (SELECT video_name || ' ' || logo as names, *\n",
    "                            FROM video\n",
    "                                     JOIN thumbnail_logo tl ON video.idx = tl.video_idx\n",
    "                                     JOIN (SELECT DISTINCT ON (vv.video_idx) vv.views, vv.video_idx, vv.check_time\n",
    "                                           FROM video_views AS vv\n",
    "                                           GROUP BY vv.video_idx, vv.views, vv.check_time\n",
    "                                           ORDER BY vv.video_idx, vv.check_time DESC) AS jvv\n",
    "                                          ON video.idx = jvv.video_idx) AS temp\n",
    "                      WHERE (names ~ '.*x{2}.*' OR names ~ '.*X{2}.*' OR names ~ '.*\\?{3}[ ]*:.*' or names ~ '.* 0{3}.*' or\n",
    "       names ~ '.* o{3}.*' or names ~ '.* O{3}.*'));\"\"\", con=conn)\n",
    "\n",
    "df_mv_filter = pre(df_mask_video)\n",
    "df_mvav_filter = pre(df_mask_video_all_video)\n",
    "\n",
    "plt.boxplot ([df_mask_video_all_video.loc[df_mvav_filter]['views'],df_mask_video.loc[df_mv_filter]['views']], meanline=True, showmeans=True, showcaps=True,\n",
    "                showbox=True, showfliers=False)"
   ]
  },
  {
   "cell_type": "markdown",
   "source": [
    "마스크가 존재하는 영상을 가진 채널의 모든 영상의 조회수 분포, 마스크가 존재하는 영상의 조회수 분포\n"
   ],
   "metadata": {
    "collapsed": false,
    "pycharm": {
     "name": "#%% md\n"
    }
   }
  },
  {
   "cell_type": "code",
   "execution_count": 49,
   "metadata": {
    "pycharm": {
     "name": "#%%\n"
    }
   },
   "outputs": [
    {
     "data": {
      "text/plain": [
       "{'whiskers': [<matplotlib.lines.Line2D at 0x147ce972cc8>,\n",
       "  <matplotlib.lines.Line2D at 0x147cf042808>,\n",
       "  <matplotlib.lines.Line2D at 0x147aa3b7608>,\n",
       "  <matplotlib.lines.Line2D at 0x147ce771348>],\n",
       " 'caps': [<matplotlib.lines.Line2D at 0x147cf042c08>,\n",
       "  <matplotlib.lines.Line2D at 0x147aa71e988>,\n",
       "  <matplotlib.lines.Line2D at 0x147aa766c08>,\n",
       "  <matplotlib.lines.Line2D at 0x147aa766508>],\n",
       " 'boxes': [<matplotlib.lines.Line2D at 0x147cd4f6ac8>,\n",
       "  <matplotlib.lines.Line2D at 0x147c9975bc8>],\n",
       " 'medians': [<matplotlib.lines.Line2D at 0x147ce771f88>,\n",
       "  <matplotlib.lines.Line2D at 0x147ce98aa88>],\n",
       " 'fliers': [],\n",
       " 'means': [<matplotlib.lines.Line2D at 0x147d04581c8>,\n",
       "  <matplotlib.lines.Line2D at 0x147ce98a9c8>]}"
      ]
     },
     "execution_count": 49,
     "metadata": {},
     "output_type": "execute_result"
    },
    {
     "data": {
      "image/png": "[encoded data removed]",
      "text/plain": [
       "<Figure size 432x288 with 1 Axes>"
      ]
     },
     "metadata": {
      "needs_background": "light"
     },
     "output_type": "display_data"
    }
   ],
   "source": [
    "plt.boxplot ([df_mask_video_all_video['views'],df_mask_video['views']], meanline=True, showmeans=True, showcaps=True,\n",
    "                showbox=True, showfliers=False)"
   ]
  },
  {
   "cell_type": "markdown",
   "source": [
    "마스크가 존재하는 영상을 가진 채널의 모든 영상의 조회수 분포, 마스크가 존재하는 영상의 조회수 분포\n",
    "(outlier를 제거하지 않은 버전)"
   ],
   "metadata": {
    "collapsed": false,
    "pycharm": {
     "name": "#%% md\n"
    }
   }
  },
  {
   "cell_type": "code",
   "execution_count": 50,
   "metadata": {
    "pycharm": {
     "name": "#%%\n"
    }
   },
   "outputs": [
    {
     "data": {
      "text/plain": [
       "{'whiskers': [<matplotlib.lines.Line2D at 0x147ba4596c8>,\n",
       "  <matplotlib.lines.Line2D at 0x147ded848c8>,\n",
       "  <matplotlib.lines.Line2D at 0x147b20c4d48>,\n",
       "  <matplotlib.lines.Line2D at 0x147b20c4588>],\n",
       " 'caps': [<matplotlib.lines.Line2D at 0x147ded84d48>,\n",
       "  <matplotlib.lines.Line2D at 0x147ded84cc8>,\n",
       "  <matplotlib.lines.Line2D at 0x147b229ed88>,\n",
       "  <matplotlib.lines.Line2D at 0x147b229ed08>],\n",
       " 'boxes': [<matplotlib.lines.Line2D at 0x147dce17f08>,\n",
       "  <matplotlib.lines.Line2D at 0x147b20c4c88>],\n",
       " 'medians': [<matplotlib.lines.Line2D at 0x147ded84e88>,\n",
       "  <matplotlib.lines.Line2D at 0x147b229eec8>],\n",
       " 'fliers': [],\n",
       " 'means': [<matplotlib.lines.Line2D at 0x147b20c4b48>,\n",
       "  <matplotlib.lines.Line2D at 0x147c7c83b48>]}"
      ]
     },
     "execution_count": 50,
     "metadata": {},
     "output_type": "execute_result"
    },
    {
     "data": {
      "image/png": "[encoded data removed]",
      "text/plain": [
       "<Figure size 432x288 with 1 Axes>"
      ]
     },
     "metadata": {
      "needs_background": "light"
     },
     "output_type": "display_data"
    }
   ],
   "source": [
    "df_order_video = pd.read_sql(\"\"\"SELECT *\n",
    "FROM (SELECT video.idx,\n",
    "             video_name || ' ' || logo as names,\n",
    "             video_name,\n",
    "             video_description,\n",
    "             video_id,\n",
    "             upload_time,\n",
    "             channel_idx,\n",
    "             thumbnail_url,\n",
    "             popularity,\n",
    "             logo,\n",
    "             jvv.views,\n",
    "             check_time\n",
    "      FROM video\n",
    "               JOIN thumbnail_logo tl ON video.idx = tl.video_idx\n",
    "               JOIN (SELECT DISTINCT ON (vv.video_idx) vv.views, vv.video_idx, vv.check_time\n",
    "                     FROM video_views AS vv\n",
    "                     GROUP BY vv.video_idx, vv.views, vv.check_time\n",
    "                     ORDER BY vv.video_idx, vv.check_time DESC) AS jvv ON video.idx = jvv.video_idx) joined_vv\n",
    "WHERE (names ~ '.*하[ ]*지[ ]*마[ ]*세[ ]*요.*' OR names ~ '.*하[ ]*셔[ ]*야[ ]*해[ ]*요.*' OR\n",
    "                             names ~ '.*[^녕]하[ ]*세[ ]*요.*' OR names ~ '.*마[ ]*세[ ]*요.*' OR\n",
    "                             names ~ '.*해[ ]*야[ ]*해[ ]*요.*')\"\"\", con=conn)\n",
    "\n",
    "df_order_video_all_video = pd.read_sql(\"\"\"\n",
    "SELECT video.idx,\n",
    "       video_name || ' ' || logo as names,\n",
    "       video_name,\n",
    "       video_description,\n",
    "       video_id,\n",
    "       upload_time,\n",
    "       channel_idx,\n",
    "       thumbnail_url,\n",
    "       popularity,\n",
    "       logo,\n",
    "       jvv.views,\n",
    "       check_time\n",
    "FROM video\n",
    "         JOIN thumbnail_logo tl ON video.idx = tl.video_idx\n",
    "         JOIN (SELECT DISTINCT ON (vv.video_idx) vv.views, vv.video_idx, vv.check_time\n",
    "               FROM video_views AS vv\n",
    "               GROUP BY vv.video_idx, vv.views, vv.check_time\n",
    "               ORDER BY vv.video_idx, vv.check_time DESC) AS jvv\n",
    "              ON video.idx = jvv.video_idx\n",
    "WHERE channel_idx IN (SELECT temp.channel_idx\n",
    "                      FROM (SELECT video_name || ' ' || logo as names, *\n",
    "                            FROM video\n",
    "                                     JOIN thumbnail_logo tl ON video.idx = tl.video_idx\n",
    "                                     JOIN (SELECT DISTINCT ON (vv.video_idx) vv.views, vv.video_idx, vv.check_time\n",
    "                                           FROM video_views AS vv\n",
    "                                           GROUP BY vv.video_idx, vv.views, vv.check_time\n",
    "                                           ORDER BY vv.video_idx, vv.check_time DESC) AS jvv\n",
    "                                          ON video.idx = jvv.video_idx) AS temp\n",
    "                      WHERE (names ~ '.*하[ ]*지[ ]*마[ ]*세[ ]*요.*' OR names ~ '.*하[ ]*셔[ ]*야[ ]*해[ ]*요.*' OR\n",
    "                             names ~ '.*[^녕]하[ ]*세[ ]*요.*' OR names ~ '.*마[ ]*세[ ]*요.*' OR\n",
    "                             names ~ '.*해[ ]*야[ ]*해[ ]*요.*'));\"\"\", con=conn)\n",
    "\n",
    "df_ov_filter = pre(df_order_video)\n",
    "df_ovav_filter = pre(df_order_video_all_video)\n",
    "\n",
    "plt.boxplot ([df_order_video_all_video.loc[df_ovav_filter]['views'],df_order_video.loc[df_ov_filter]['views']], meanline=True, showmeans=True, showcaps=True,\n",
    "                showbox=True, showfliers=False)"
   ]
  },
  {
   "cell_type": "markdown",
   "source": [
    "명령형 비디오를 포함한 채널의 전체 영상, 명령형 비디오"
   ],
   "metadata": {
    "collapsed": false,
    "pycharm": {
     "name": "#%% md\n"
    }
   }
  },
  {
   "cell_type": "code",
   "execution_count": 51,
   "metadata": {
    "pycharm": {
     "name": "#%%\n"
    }
   },
   "outputs": [
    {
     "data": {
      "text/plain": [
       "{'whiskers': [<matplotlib.lines.Line2D at 0x147ceff9b08>,\n",
       "  <matplotlib.lines.Line2D at 0x147d5f67d08>,\n",
       "  <matplotlib.lines.Line2D at 0x147c41a7ac8>,\n",
       "  <matplotlib.lines.Line2D at 0x147c41a70c8>],\n",
       " 'caps': [<matplotlib.lines.Line2D at 0x147d5f67c48>,\n",
       "  <matplotlib.lines.Line2D at 0x147d5f67e48>,\n",
       "  <matplotlib.lines.Line2D at 0x147cedfacc8>,\n",
       "  <matplotlib.lines.Line2D at 0x147cedfaec8>],\n",
       " 'boxes': [<matplotlib.lines.Line2D at 0x147aa119ec8>,\n",
       "  <matplotlib.lines.Line2D at 0x147c41a7fc8>],\n",
       " 'medians': [<matplotlib.lines.Line2D at 0x147dd0a7a08>,\n",
       "  <matplotlib.lines.Line2D at 0x147d974ca88>],\n",
       " 'fliers': [],\n",
       " 'means': [<matplotlib.lines.Line2D at 0x147dd0a7c08>,\n",
       "  <matplotlib.lines.Line2D at 0x147d974cc88>]}"
      ]
     },
     "execution_count": 51,
     "metadata": {},
     "output_type": "execute_result"
    },
    {
     "data": {
      "image/png": "[encoded data removed]",
      "text/plain": [
       "<Figure size 432x288 with 1 Axes>"
      ]
     },
     "metadata": {
      "needs_background": "light"
     },
     "output_type": "display_data"
    }
   ],
   "source": [
    "plt.boxplot ([df_order_video_all_video['views'],df_order_video['views']], meanline=True, showmeans=True, showcaps=True,\n",
    "                showbox=True, showfliers=False)"
   ]
  },
  {
   "cell_type": "markdown",
   "source": [
    "명령형 비디오를 포함한 채널의 전체 영상, 명령형 비디오\n",
    "(outlier를 제거하지 않은 버전)"
   ],
   "metadata": {
    "collapsed": false,
    "pycharm": {
     "name": "#%% md\n"
    }
   }
  },
  {
   "cell_type": "code",
   "execution_count": 56,
   "metadata": {
    "pycharm": {
     "name": "#%%\n"
    }
   },
   "outputs": [
    {
     "data": {
      "text/plain": "{'whiskers': [<matplotlib.lines.Line2D at 0x147d79f4c48>,\n  <matplotlib.lines.Line2D at 0x147deb62f88>,\n  <matplotlib.lines.Line2D at 0x147bc3cbf48>,\n  <matplotlib.lines.Line2D at 0x147bc3cb408>],\n 'caps': [<matplotlib.lines.Line2D at 0x147c762b4c8>,\n  <matplotlib.lines.Line2D at 0x147c762b048>,\n  <matplotlib.lines.Line2D at 0x147dbcbcc08>,\n  <matplotlib.lines.Line2D at 0x147dbcbcb88>],\n 'boxes': [<matplotlib.lines.Line2D at 0x147deb62d88>,\n  <matplotlib.lines.Line2D at 0x147bc3cbf08>],\n 'medians': [<matplotlib.lines.Line2D at 0x147c762b388>,\n  <matplotlib.lines.Line2D at 0x147dbcbcd48>],\n 'fliers': [],\n 'means': [<matplotlib.lines.Line2D at 0x147bc3cb9c8>,\n  <matplotlib.lines.Line2D at 0x147cce859c8>]}"
     },
     "execution_count": 56,
     "metadata": {},
     "output_type": "execute_result"
    },
    {
     "data": {
      "text/plain": "<Figure size 432x288 with 1 Axes>",
      "image/png": "[encoded data removed]"
     },
     "metadata": {
      "needs_background": "light"
     },
     "output_type": "display_data"
    }
   ],
   "source": [
    "df_sprite_video = pd.read_sql(\"\"\"SELECT *\n",
    "FROM (SELECT video.idx,\n",
    "             video_name || ' ' || logo as names,\n",
    "             video_name,\n",
    "             video_description,\n",
    "             video_id,\n",
    "             upload_time,\n",
    "             channel_idx,\n",
    "             thumbnail_url,\n",
    "             popularity,\n",
    "             logo,\n",
    "             jvv.views,\n",
    "             check_time\n",
    "      FROM video\n",
    "               JOIN thumbnail_logo tl ON video.idx = tl.video_idx\n",
    "               JOIN (SELECT DISTINCT ON (vv.video_idx) vv.views, vv.video_idx, vv.check_time\n",
    "                     FROM video_views AS vv\n",
    "                     GROUP BY vv.video_idx, vv.views, vv.check_time\n",
    "                     ORDER BY vv.video_idx, vv.check_time DESC) AS jvv ON video.idx = jvv.video_idx) joined_vv\n",
    "WHERE (names ~ '.*사[ ]*이[ ]*다.*' OR  names ~ '.*참[ ]*교[ ]*육.*')\"\"\", con=conn)\n",
    "\n",
    "df_sprite_video_all_video = pd.read_sql(\"\"\"\n",
    "SELECT video.idx,\n",
    "       video_name || ' ' || logo as names,\n",
    "       video_name,\n",
    "       video_description,\n",
    "       video_id,\n",
    "       upload_time,\n",
    "       channel_idx,\n",
    "       thumbnail_url,\n",
    "       popularity,\n",
    "       logo,\n",
    "       jvv.views,\n",
    "       check_time\n",
    "FROM video\n",
    "         JOIN thumbnail_logo tl ON video.idx = tl.video_idx\n",
    "         JOIN (SELECT DISTINCT ON (vv.video_idx) vv.views, vv.video_idx, vv.check_time\n",
    "               FROM video_views AS vv\n",
    "               GROUP BY vv.video_idx, vv.views, vv.check_time\n",
    "               ORDER BY vv.video_idx, vv.check_time DESC) AS jvv\n",
    "              ON video.idx = jvv.video_idx\n",
    "WHERE channel_idx IN (SELECT temp.channel_idx\n",
    "                      FROM (SELECT video_name || ' ' || logo as names, *\n",
    "                            FROM video\n",
    "                                     JOIN thumbnail_logo tl ON video.idx = tl.video_idx\n",
    "                                     JOIN (SELECT DISTINCT ON (vv.video_idx) vv.views, vv.video_idx, vv.check_time\n",
    "                                           FROM video_views AS vv\n",
    "                                           GROUP BY vv.video_idx, vv.views, vv.check_time\n",
    "                                           ORDER BY vv.video_idx, vv.check_time DESC) AS jvv\n",
    "                                          ON video.idx = jvv.video_idx) AS temp\n",
    "                      WHERE (names ~ '.*사[ ]*이[ ]*다.*' OR  names ~ '.*참[ ]*교[ ]*육.*'));\"\"\", con=conn)\n",
    "\n",
    "df_sv_filter = pre(df_sprite_video)\n",
    "df_svav_filter = pre(df_sprite_video_all_video)\n",
    "\n",
    "plt.boxplot ([df_sprite_video_all_video.loc[df_svav_filter]['views'],df_sprite_video.loc[df_sv_filter]['views']], meanline=True, showmeans=True, showcaps=True,\n",
    "                showbox=True, showfliers=False)"
   ]
  },
  {
   "cell_type": "markdown",
   "source": [
    "사이다 비디오를 포함한 채널의 전체 영상, 사이다 비디오"
   ],
   "metadata": {
    "collapsed": false,
    "pycharm": {
     "name": "#%% md\n"
    }
   }
  },
  {
   "cell_type": "code",
   "execution_count": 57,
   "metadata": {
    "pycharm": {
     "name": "#%%\n"
    }
   },
   "outputs": [
    {
     "data": {
      "text/plain": "{'whiskers': [<matplotlib.lines.Line2D at 0x147ac32ce08>,\n  <matplotlib.lines.Line2D at 0x147ac0a2b88>,\n  <matplotlib.lines.Line2D at 0x147c49d7f48>,\n  <matplotlib.lines.Line2D at 0x147c49d7548>],\n 'caps': [<matplotlib.lines.Line2D at 0x147ac0a2c08>,\n  <matplotlib.lines.Line2D at 0x147ac2a3f48>,\n  <matplotlib.lines.Line2D at 0x147cf2e4cc8>,\n  <matplotlib.lines.Line2D at 0x147d5a9cfc8>],\n 'boxes': [<matplotlib.lines.Line2D at 0x147ac0a2348>,\n  <matplotlib.lines.Line2D at 0x147c49d7e88>],\n 'medians': [<matplotlib.lines.Line2D at 0x147ac2a3e88>,\n  <matplotlib.lines.Line2D at 0x147d5a9ca48>],\n 'fliers': [],\n 'means': [<matplotlib.lines.Line2D at 0x147c49d7d48>,\n  <matplotlib.lines.Line2D at 0x147aa0382c8>]}"
     },
     "execution_count": 57,
     "metadata": {},
     "output_type": "execute_result"
    },
    {
     "data": {
      "text/plain": "<Figure size 432x288 with 1 Axes>",
      "image/png": "[encoded data removed]"
     },
     "metadata": {
      "needs_background": "light"
     },
     "output_type": "display_data"
    }
   ],
   "source": [
    "plt.boxplot ([df_sprite_video_all_video['views'],df_sprite_video['views']], meanline=True, showmeans=True, showcaps=True,\n",
    "                showbox=True, showfliers=False)"
   ]
  },
  {
   "cell_type": "markdown",
   "source": [
    "사이다 비디오를 포함한 채널의 전체 영상, 사이다 비디오\n",
    "(outlier를 제거하지 않은 버전)"
   ],
   "metadata": {
    "collapsed": false,
    "pycharm": {
     "name": "#%% md\n"
    }
   }
  },
  {
   "cell_type": "code",
   "execution_count": 54,
   "metadata": {
    "pycharm": {
     "name": "#%%\n"
    }
   },
   "outputs": [
    {
     "data": {
      "text/plain": [
       "{'whiskers': [<matplotlib.lines.Line2D at 0x147b5b3f788>,\n",
       "  <matplotlib.lines.Line2D at 0x148272979c8>,\n",
       "  <matplotlib.lines.Line2D at 0x147d0b1de48>,\n",
       "  <matplotlib.lines.Line2D at 0x147d0b1d688>],\n",
       " 'caps': [<matplotlib.lines.Line2D at 0x14827297e48>,\n",
       "  <matplotlib.lines.Line2D at 0x14827297dc8>,\n",
       "  <matplotlib.lines.Line2D at 0x147d47f3c08>,\n",
       "  <matplotlib.lines.Line2D at 0x147d47f3e08>],\n",
       " 'boxes': [<matplotlib.lines.Line2D at 0x147c237bec8>,\n",
       "  <matplotlib.lines.Line2D at 0x147d0b1dd88>],\n",
       " 'medians': [<matplotlib.lines.Line2D at 0x14827297f88>,\n",
       "  <matplotlib.lines.Line2D at 0x147ac75b9c8>],\n",
       " 'fliers': [],\n",
       " 'means': [<matplotlib.lines.Line2D at 0x147d0b1dc48>,\n",
       "  <matplotlib.lines.Line2D at 0x147ac75bbc8>]}"
      ]
     },
     "execution_count": 54,
     "metadata": {},
     "output_type": "execute_result"
    },
    {
     "data": {
      "image/png": "[encoded data removed]",
      "text/plain": [
       "<Figure size 432x288 with 1 Axes>"
      ]
     },
     "metadata": {
      "needs_background": "light"
     },
     "output_type": "display_data"
    }
   ],
   "source": [
    "df_global_video = pd.read_sql(\"\"\"SELECT *\n",
    "FROM (SELECT video.idx,\n",
    "             video_name || ' ' || logo as names,\n",
    "             video_name,\n",
    "             video_description,\n",
    "             video_id,\n",
    "             upload_time,\n",
    "             channel_idx,\n",
    "             thumbnail_url,\n",
    "             popularity,\n",
    "             logo,\n",
    "             jvv.views,\n",
    "             check_time\n",
    "      FROM video\n",
    "               JOIN thumbnail_logo tl ON video.idx = tl.video_idx\n",
    "               JOIN (SELECT DISTINCT ON (vv.video_idx) vv.views, vv.video_idx, vv.check_time\n",
    "                     FROM video_views AS vv\n",
    "                     GROUP BY vv.video_idx, vv.views, vv.check_time\n",
    "                     ORDER BY vv.video_idx, vv.check_time DESC) AS jvv ON video.idx = jvv.video_idx) joined_vv\n",
    "WHERE (names ~ '.*한[ ]*국.*' or names ~ '.*우[ ]*리[ ]*나[ ]*라.*' or names ~ '.*대[ ]*한[ ]*민[ ]*국.*')\n",
    "  AND (names ~ '.*일[ ]*본.*' or names ~ '.*미[ ]*국.*' or names ~ '.*독[ ]*일.*' or names ~ '.*유[ ]*럽.*' or\n",
    "       names ~ '.*해[ ]*외.*' or names ~ '.*강[ ]*대[ ]*국.*' or names ~ '.*선[ ]*진[ ]*국.*')\"\"\", con=conn)\n",
    "\n",
    "df_global_video_all_video = pd.read_sql(\"\"\"\n",
    "SELECT video.idx,\n",
    "       video_name || ' ' || logo as names,\n",
    "       video_name,\n",
    "       video_description,\n",
    "       video_id,\n",
    "       upload_time,\n",
    "       channel_idx,\n",
    "       thumbnail_url,\n",
    "       popularity,\n",
    "       logo,\n",
    "       jvv.views,\n",
    "       check_time\n",
    "FROM video\n",
    "         JOIN thumbnail_logo tl ON video.idx = tl.video_idx\n",
    "         JOIN (SELECT DISTINCT ON (vv.video_idx) vv.views, vv.video_idx, vv.check_time\n",
    "               FROM video_views AS vv\n",
    "               GROUP BY vv.video_idx, vv.views, vv.check_time\n",
    "               ORDER BY vv.video_idx, vv.check_time DESC) AS jvv\n",
    "              ON video.idx = jvv.video_idx\n",
    "WHERE channel_idx IN (SELECT temp.channel_idx\n",
    "                      FROM (SELECT video_name || ' ' || logo as names, *\n",
    "                            FROM video\n",
    "                                     JOIN thumbnail_logo tl ON video.idx = tl.video_idx\n",
    "                                     JOIN (SELECT DISTINCT ON (vv.video_idx) vv.views, vv.video_idx, vv.check_time\n",
    "                                           FROM video_views AS vv\n",
    "                                           GROUP BY vv.video_idx, vv.views, vv.check_time\n",
    "                                           ORDER BY vv.video_idx, vv.check_time DESC) AS jvv\n",
    "                                          ON video.idx = jvv.video_idx) AS temp\n",
    "                      WHERE (names ~ '.*한[ ]*국.*' or names ~ '.*우[ ]*리[ ]*나[ ]*라.*' or names ~ '.*대[ ]*한[ ]*민[ ]*국.*')\n",
    "  AND (names ~ '.*일[ ]*본.*' or names ~ '.*미[ ]*국.*' or names ~ '.*독[ ]*일.*' or names ~ '.*유[ ]*럽.*' or\n",
    "       names ~ '.*해[ ]*외.*' or names ~ '.*강[ ]*대[ ]*국.*' or names ~ '.*선[ ]*진[ ]*국.*'));\"\"\", con=conn)\n",
    "\n",
    "df_gv_filter = pre(df_global_video)\n",
    "df_gvav_filter = pre(df_global_video_all_video)\n",
    "\n",
    "plt.boxplot ([df_global_video_all_video.loc[df_gvav_filter]['views'],df_global_video.loc[df_gv_filter]['views']], meanline=True, showmeans=True, showcaps=True,\n",
    "                showbox=True, showfliers=False)"
   ]
  },
  {
   "cell_type": "markdown",
   "source": [
    "한국+해외 비디오를 포함한 채널의 전체 영상, 한국+해외 비디오"
   ],
   "metadata": {
    "collapsed": false,
    "pycharm": {
     "name": "#%% md\n"
    }
   }
  },
  {
   "cell_type": "code",
   "execution_count": 58,
   "outputs": [
    {
     "data": {
      "text/plain": "{'whiskers': [<matplotlib.lines.Line2D at 0x147b24df348>,\n  <matplotlib.lines.Line2D at 0x147ae029cc8>,\n  <matplotlib.lines.Line2D at 0x147d8127c88>,\n  <matplotlib.lines.Line2D at 0x147d8127148>],\n 'caps': [<matplotlib.lines.Line2D at 0x147cf164908>,\n  <matplotlib.lines.Line2D at 0x147cf164d88>,\n  <matplotlib.lines.Line2D at 0x147d45ef948>,\n  <matplotlib.lines.Line2D at 0x147d45efdc8>],\n 'boxes': [<matplotlib.lines.Line2D at 0x147ae029a88>,\n  <matplotlib.lines.Line2D at 0x147d8127c48>],\n 'medians': [<matplotlib.lines.Line2D at 0x147cf164d08>,\n  <matplotlib.lines.Line2D at 0x147d45efd48>],\n 'fliers': [],\n 'means': [<matplotlib.lines.Line2D at 0x147cf164ec8>,\n  <matplotlib.lines.Line2D at 0x147d45eff08>]}"
     },
     "execution_count": 58,
     "metadata": {},
     "output_type": "execute_result"
    },
    {
     "data": {
      "text/plain": "<Figure size 432x288 with 1 Axes>",
      "image/png": "[encoded data removed]"
     },
     "metadata": {
      "needs_background": "light"
     },
     "output_type": "display_data"
    }
   ],
   "source": [
    "plt.boxplot ([df_global_video_all_video['views'],df_global_video['views']], meanline=True, showmeans=True, showcaps=True,\n",
    "                showbox=True, showfliers=False)"
   ],
   "metadata": {
    "collapsed": false,
    "pycharm": {
     "name": "#%%\n"
    }
   }
  },
  {
   "cell_type": "markdown",
   "source": [
    "한국+해외 비디오를 포함한 채널의 전체 영상, 한국+해외 비디오\n",
    "(outlier 제거)"
   ],
   "metadata": {
    "collapsed": false
   }
  },
  {
   "cell_type": "code",
   "execution_count": 16,
   "outputs": [
    {
     "data": {
      "text/plain": "{'whiskers': [<matplotlib.lines.Line2D at 0x1efce3caa48>,\n  <matplotlib.lines.Line2D at 0x1efce14e748>,\n  <matplotlib.lines.Line2D at 0x1efcefdab88>,\n  <matplotlib.lines.Line2D at 0x1efcef835c8>],\n 'caps': [<matplotlib.lines.Line2D at 0x1efcc2638c8>,\n  <matplotlib.lines.Line2D at 0x1efce3e2dc8>,\n  <matplotlib.lines.Line2D at 0x1efcefd6d88>,\n  <matplotlib.lines.Line2D at 0x1efcefac688>],\n 'boxes': [<matplotlib.lines.Line2D at 0x1efab025048>,\n  <matplotlib.lines.Line2D at 0x1efcefd49c8>],\n 'medians': [<matplotlib.lines.Line2D at 0x1efcef83d88>,\n  <matplotlib.lines.Line2D at 0x1efcefe7dc8>],\n 'fliers': [],\n 'means': [<matplotlib.lines.Line2D at 0x1efce057688>,\n  <matplotlib.lines.Line2D at 0x1efcefe7408>]}"
     },
     "execution_count": 16,
     "metadata": {},
     "output_type": "execute_result"
    },
    {
     "data": {
      "text/plain": "<Figure size 432x288 with 1 Axes>",
      "image/png": "[encoded data removed]"
     },
     "metadata": {
      "needs_background": "light"
     },
     "output_type": "display_data"
    }
   ],
   "source": [
    "df_clustered_video = pd.read_sql(\"\"\"\n",
    "SELECT *\n",
    "FROM (SELECT video.idx,\n",
    "             video_name || ' ' || logo as names,\n",
    "             video_name,\n",
    "             video_description,\n",
    "             video_id,\n",
    "             upload_time,\n",
    "             channel_idx,\n",
    "             thumbnail_url,\n",
    "             popularity,\n",
    "             logo,\n",
    "             jvv.views,\n",
    "             check_time\n",
    "      FROM video\n",
    "               JOIN thumbnail_logo tl ON video.idx = tl.video_idx\n",
    "               JOIN (SELECT DISTINCT ON (vv.video_idx) vv.views, vv.video_idx, vv.check_time\n",
    "                     FROM video_views AS vv\n",
    "                     GROUP BY vv.video_idx, vv.views, vv.check_time\n",
    "                     ORDER BY vv.video_idx, vv.check_time DESC) AS jvv ON video.idx = jvv.video_idx) joined_vv\n",
    "WHERE channel_idx IN\n",
    "      (2232, 2490, 1069, 2038, 2584, 2451, 2385, 2396, 3387, 1063, 2411, 1292, 1770, 1787, 2007, 2393, 2372, 2394, 2386,\n",
    "       2387, 2373, 2389, 2471, 2488, 2467, 2476, 2477, 2439, 2544, 2355, 2425, 2422, 2417, 2412, 2408, 2410, 2406, 2401,\n",
    "       2621, 3284)\n",
    "\"\"\", con=conn)\n",
    "\n",
    "\n",
    "df_cv_filter = pre(df_clustered_video)\n",
    "\n",
    "plt.boxplot ([df_clustered_video['views'],df_clustered_video.loc[df_cv_filter]['views']], meanline=True, showmeans=True, showcaps=True,\n",
    "                showbox=True, showfliers=False)"
   ],
   "metadata": {
    "collapsed": false,
    "pycharm": {
     "name": "#%%\n"
    }
   }
  },
  {
   "cell_type": "code",
   "execution_count": 17,
   "outputs": [
    {
     "data": {
      "text/plain": "{'whiskers': [<matplotlib.lines.Line2D at 0x1efce7c6888>,\n  <matplotlib.lines.Line2D at 0x1efce7d92c8>,\n  <matplotlib.lines.Line2D at 0x1efce7ed5c8>,\n  <matplotlib.lines.Line2D at 0x1efce7e80c8>],\n 'caps': [<matplotlib.lines.Line2D at 0x1efce7d9b48>,\n  <matplotlib.lines.Line2D at 0x1efce7ddc88>,\n  <matplotlib.lines.Line2D at 0x1efce7f2e88>,\n  <matplotlib.lines.Line2D at 0x1efce7f5cc8>],\n 'boxes': [<matplotlib.lines.Line2D at 0x1efce7d5f88>,\n  <matplotlib.lines.Line2D at 0x1efce7e88c8>],\n 'medians': [<matplotlib.lines.Line2D at 0x1efce7e0c08>,\n  <matplotlib.lines.Line2D at 0x1efce7fdfc8>],\n 'fliers': [],\n 'means': [<matplotlib.lines.Line2D at 0x1efce7e5788>,\n  <matplotlib.lines.Line2D at 0x1efce7fd708>]}"
     },
     "execution_count": 17,
     "metadata": {},
     "output_type": "execute_result"
    },
    {
     "data": {
      "text/plain": "<Figure size 432x288 with 1 Axes>",
      "image/png": "[encoded data removed]"
     },
     "metadata": {
      "needs_background": "light"
     },
     "output_type": "display_data"
    }
   ],
   "source": [
    "df_clustered_video = pd.read_sql(\"\"\"\n",
    "SELECT *\n",
    "FROM (SELECT video.idx,\n",
    "             video_name || ' ' || logo as names,\n",
    "             video_name,\n",
    "             video_description,\n",
    "             video_id,\n",
    "             upload_time,\n",
    "             channel_idx,\n",
    "             thumbnail_url,\n",
    "             popularity,\n",
    "             logo,\n",
    "             jvv.views,\n",
    "             check_time\n",
    "      FROM video\n",
    "               JOIN thumbnail_logo tl ON video.idx = tl.video_idx\n",
    "               JOIN (SELECT DISTINCT ON (vv.video_idx) vv.views, vv.video_idx, vv.check_time\n",
    "                     FROM video_views AS vv\n",
    "                     GROUP BY vv.video_idx, vv.views, vv.check_time\n",
    "                     ORDER BY vv.video_idx, vv.check_time DESC) AS jvv ON video.idx = jvv.video_idx) joined_vv\n",
    "WHERE channel_idx IN\n",
    "      (26, 66, 71, 112, 200, 206, 134, 14, 17, 30, 43, 38, 55, 98, 51, 52, 60, 70, 94, 85, 89, 115, 122, 138, 148, 156,\n",
    "       171, 172, 169, 181, 182, 197, 211, 99, 218, 1588)\n",
    "\"\"\", con=conn)\n",
    "\n",
    "\n",
    "df_cv_filter = pre(df_clustered_video)\n",
    "\n",
    "plt.boxplot ([df_clustered_video['views'],df_clustered_video.loc[df_cv_filter]['views']], meanline=True, showmeans=True, showcaps=True,\n",
    "                showbox=True, showfliers=False)"
   ],
   "metadata": {
    "collapsed": false,
    "pycharm": {
     "name": "#%%\n"
    }
   }
  },
  {
   "cell_type": "code",
   "execution_count": 3,
   "outputs": [],
   "source": [
    "df = pd.read_csv(r'D:\\movie_channel_target.csv')"
   ],
   "metadata": {
    "collapsed": false,
    "pycharm": {
     "name": "#%%\n"
    }
   }
  },
  {
   "cell_type": "code",
   "execution_count": 4,
   "outputs": [
    {
     "data": {
      "text/plain": "2    4630\n1    4629\nName: views, dtype: int64"
     },
     "execution_count": 4,
     "metadata": {},
     "output_type": "execute_result"
    }
   ],
   "source": [
    "df_cutted = pd.qcut(df['views'], 2, labels=[2,1])\n",
    "df_cutted.value_counts()"
   ],
   "metadata": {
    "collapsed": false,
    "pycharm": {
     "name": "#%%\n"
    }
   }
  },
  {
   "cell_type": "code",
   "execution_count": 5,
   "outputs": [
    {
     "data": {
      "text/plain": "<Figure size 432x288 with 1 Axes>",
      "image/png": "[encoded data removed]"
     },
     "metadata": {
      "needs_background": "light"
     },
     "output_type": "display_data"
    }
   ],
   "source": [
    "df_1 = df.loc[df_cutted.values == 1]\n",
    "df_2 = df.loc[df_cutted.values == 2]\n",
    "# df_3 = df.loc[df_cutted.values == 3]\n",
    "# df_4 = df.loc[df_cutted.values == 4]\n",
    "# df_5 = df.loc[df_cutted.values == 5]\n",
    "\n",
    "plt.boxplot([df_1['views'],df_2['views']], meanline=True, showmeans=True, showcaps=True,\n",
    "                showbox=True, showfliers=False)\n",
    "\n",
    "df_1.to_csv('df_2_1.csv')\n",
    "df_2.to_csv('df_2_2.csv')\n",
    "# df_3.to_csv('df_3_3.csv')\n",
    "# df_4.to_csv('df_5_4.csv')\n",
    "# df_4.to_csv('df_5_5.csv')"
   ],
   "metadata": {
    "collapsed": false,
    "pycharm": {
     "name": "#%%\n"
    }
   }
  },
  {
   "cell_type": "code",
   "execution_count": 23,
   "outputs": [
    {
     "name": "stdout",
     "output_type": "stream",
     "text": [
      "<class 'pandas.core.frame.DataFrame'>\n",
      "Int64Index: 1852 entries, 1852 to 3703\n",
      "Data columns (total 12 columns):\n",
      " #   Column             Non-Null Count  Dtype  \n",
      "---  ------             --------------  -----  \n",
      " 0   idx                1852 non-null   int64  \n",
      " 1   names              1852 non-null   object \n",
      " 2   video_name         1852 non-null   object \n",
      " 3   video_description  1826 non-null   object \n",
      " 4   video_id           1852 non-null   object \n",
      " 5   upload_time        1852 non-null   object \n",
      " 6   channel_idx        1852 non-null   int64  \n",
      " 7   thumbnail_url      1852 non-null   object \n",
      " 8   popularity         1852 non-null   float64\n",
      " 9   logo               1356 non-null   object \n",
      " 10  views              1852 non-null   int64  \n",
      " 11  check_time         1852 non-null   object \n",
      "dtypes: float64(1), int64(3), object(8)\n",
      "memory usage: 268.1+ KB\n"
     ]
    }
   ],
   "source": [
    "df_2.info()"
   ],
   "metadata": {
    "collapsed": false,
    "pycharm": {
     "name": "#%%\n"
    }
   }
  },
  {
   "cell_type": "code",
   "execution_count": 110,
   "outputs": [
    {
     "data": {
      "text/plain": "2305         오x가즘 총을 쏘는 신개념 슈퍼히어로 영화리뷰 결말포함 한번만 00 오르가즘 총\n2306                        아이언맨 로다주의 새로운 컴백작 형 돌아 왔어 rdj\n2307                         9명의 남녀가 한달간 합숙하면 큰일나는 이유 썸바디\n2308                              영화 보헤미안 랩소디 우리는 몰랐던 이야기\n2309    돈에 눈 먼 백수남녀가 함께 술마시면 안 되는 이유 리얼 병맛영화 으응 음 이게 꿈...\n2310        외계 침공으로 망해버린 지구에서 살아남기 결말포함 지구 열망 1 일차 우리 어쩌나\n2311    2048년 전세계의 90 가 바다속에 잠겨버린 미래 영화리뷰 결말포함 지구 침몰 오...\n2312           게임에서 사귄 여친을 실제로 만나면 벌어지는 일 보스몹 잡고 나랑 사귈 사람\n2313      최첨단 광학 슈트를 발명해버린 전 세계가 인정한 소시오패스 과학자 광학 나노 슈트 다\n2314            일어설 수 없는 소녀에게 막 출소한 삼촌이 나타나면 벌어지는 일 대선 토론\nName: names, dtype: object"
     },
     "execution_count": 110,
     "metadata": {},
     "output_type": "execute_result"
    }
   ],
   "source": [
    "df_1['names'].tail(10).map(pre)"
   ],
   "metadata": {
    "collapsed": false,
    "pycharm": {
     "name": "#%%\n"
    }
   }
  },
  {
   "cell_type": "code",
   "execution_count": 6,
   "outputs": [],
   "source": [
    "import re\n",
    "\n",
    "def pre(text):\n",
    "    text = text.strip().lower()\n",
    "    # text = re.sub('[^ 0-9ㄱ-ㅣ가-힣a-z:/_.\\'\\\",~!?`#%^&*{}()]+', '', text)\n",
    "    text = re.sub('http.*', '', text)\n",
    "    text = re.sub('[0-9]{1,3}:[0-9]{1,2}', ' ', text)\n",
    "    # text = re.sub('[^ 0-9ㄱ-ㅣ가-힣a-z!?.,\\'\\\"~`#%^&*(){}]+', ' ', text)\n",
    "    text = re.sub('[^ 0-9ㄱ-ㅣ가-힣a-z]', ' ', text)\n",
    "    text = re.sub('\\n', ' ', text)\n",
    "    text = re.sub(' {2,}', ' ', text)\n",
    "    return text.strip()"
   ],
   "metadata": {
    "collapsed": false,
    "pycharm": {
     "name": "#%%\n"
    }
   }
  },
  {
   "cell_type": "code",
   "execution_count": 7,
   "outputs": [],
   "source": [
    "from konlpy.tag import Okt\n",
    "okt = Okt()"
   ],
   "metadata": {
    "collapsed": false,
    "pycharm": {
     "name": "#%%\n"
    }
   }
  },
  {
   "cell_type": "code",
   "execution_count": 8,
   "outputs": [
    {
     "data": {
      "text/plain": "['여자',\n '가',\n '남자',\n '몰래',\n '술',\n '을',\n '버리는',\n '충격',\n '적',\n '인',\n '이유',\n '(',\n '반전',\n '주의',\n ')',\n '우주',\n '에서',\n '외계인',\n '들',\n '한테',\n '쫓기던',\n '썰',\n '푼다',\n '[',\n '영화리뷰',\n '결말',\n '포함',\n ']',\n '#',\n '오지',\n '망',\n '13',\n '오늘',\n '도',\n '지구',\n '는',\n '망했다',\n '.',\n '미래',\n '우주',\n '피난',\n '기',\n '대',\n '환',\n '창',\n '어산',\n '일',\n '럼',\n '엔드게임',\n '이후',\n '우리',\n '가',\n '집중',\n '해야',\n '되는',\n '히어로',\n '들',\n 'D',\n '제',\n '내',\n '가',\n '1',\n '위',\n '야',\n '빙',\n '하기',\n ',',\n '죽어가던',\n '늑대',\n '를',\n '키워',\n '사냥',\n '의',\n '신',\n '이',\n '된',\n '남자',\n '늑대',\n '야',\n '!',\n '재',\n '물어',\n '와',\n '!',\n '[',\n '이',\n '사',\n '집',\n '리뷰',\n ']',\n '구',\n '불',\n '이사',\n '했당',\n '~!',\n '데드풀',\n '이',\n '좀비',\n '가',\n '되면',\n '벌어지는',\n '일',\n '_',\n '대',\n '환',\n '장',\n '파티',\n '이상한',\n '비행기',\n '에',\n '타',\n '버렸다',\n '..?',\n '[',\n '뭅뭅픽',\n ']',\n '롤러코스터',\n '1',\n '부',\n 'l',\n '하정우',\n 'l',\n '개인',\n '위생',\n '비행기',\n '뜨기',\n '전',\n '이',\n '곳',\n '에선',\n '무슨',\n '일',\n '이',\n '?',\n '클러',\n '코스터',\n '1',\n '부',\n ':',\n '바다',\n '를',\n '통치',\n '하는',\n '히어로',\n 'ㅣ',\n '아쿠아',\n '맨',\n 'ㅣ',\n '(',\n '영화리뷰',\n ',',\n '결말',\n '포함',\n ')',\n '반지',\n '3',\n '바다',\n '의',\n '지배자',\n '포세',\n '이다',\n '..',\n '드래곤볼',\n '은',\n '과연',\n '어떻게',\n '끝났을까',\n '?',\n '대망',\n '의',\n '드래곤볼',\n '결말',\n '스토리',\n '리뷰',\n '!',\n '완결',\n '은',\n '이',\n '걸',\n '로',\n '정리',\n '!',\n '손',\n '모공',\n '많이',\n '컷비',\n '!',\n '1',\n '의미',\n '완결',\n '절말',\n '리뷰',\n '!',\n '100',\n 'wmnobourdinst',\n '괴',\n '생물체',\n '에게',\n '물려',\n '탄생',\n '한',\n '복제인간',\n '들',\n '이',\n '벌이는',\n '충격',\n '적',\n '인',\n '일',\n '들',\n '(',\n '결말',\n '포함',\n ')',\n '<',\n '-',\n '바이러스',\n '감염',\n '된',\n '복제',\n '인간',\n '스필버그',\n '가',\n '아버지',\n '에게',\n '바치는',\n '전쟁영화',\n ':',\n '라이언',\n '일병',\n '구',\n '하기',\n '비하인드',\n 'saving',\n 'private',\n 'ryan',\n '스필버그',\n '가',\n '아버지',\n '에게',\n '바치는',\n '전쟁',\n '영화',\n '하필',\n '이면',\n '[',\n '오늘',\n '가석방',\n '되는',\n ']',\n '전직',\n '특공대',\n '원',\n '이',\n '탄',\n '죄수',\n '호송',\n '기를',\n '탈취',\n '한',\n '거물',\n '급',\n '무기수',\n '들',\n '기체',\n '외계인',\n 'VS',\n '인류',\n '과학',\n ',',\n '외계',\n '문명',\n '의',\n '등장',\n '으로',\n '난리',\n '가',\n '나',\n '버린',\n '지구',\n '[',\n '영화리뷰',\n '결말',\n '포함',\n ']',\n '30',\n '번째',\n '지구',\n '열망',\n '!',\n '외계인',\n '-',\n 'VS',\n '인류',\n '과학',\n '[',\n '신',\n '정무문',\n '|',\n '하편',\n ']',\n '주성치',\n '의',\n '실전',\n '쿵푸',\n '훈련',\n ',',\n '천만',\n '달러',\n '상금',\n '을',\n '노려라',\n '!',\n '|',\n '결말',\n '포함',\n '|',\n '재업',\n '요절',\n '복통',\n '실전',\n '쿵푸',\n '(',\n '신',\n '정무문',\n '리뷰',\n '하편',\n ')',\n '다시',\n '는',\n '노인',\n '을',\n '무시',\n '하지',\n '마라',\n '엑스맨',\n '시리즈',\n '두번째',\n '이야기',\n 'ㅣ',\n '엑스맨',\n '2',\n 'ㅣ',\n '(',\n '영화리뷰',\n ',',\n '결말',\n '포함',\n ')',\n '배빼',\n '영화',\n '리뷰',\n '엑스',\n '맨',\n '리즈',\n '2',\n '부',\n '여성',\n '올',\n '버린',\n '의',\n '등장',\n '?',\n '시골',\n '촌놈',\n '에서',\n '전설',\n '이',\n '된',\n '남자',\n '의',\n '실화',\n '\"',\n '저',\n '촌놈',\n '이에요',\n '!',\n '당신',\n '뭐',\n '에요',\n '?',\n '하필',\n ',',\n '해병대',\n '장교',\n '출신',\n '노인',\n '을',\n '건',\n '든',\n '20',\n '대',\n '양',\n '아치',\n '들',\n '의',\n '최후',\n '...',\n '[',\n '동',\n '베',\n '양',\n '아치',\n ')',\n 'L',\n '해',\n '해병대',\n '장교',\n '출인',\n ')',\n '-',\n 'LI',\n '들',\n '전부',\n '청소',\n '하고',\n '죽으',\n '런다',\n '전설',\n '의',\n '똥개',\n '들',\n '때려',\n '잡는',\n '여우',\n '조로아크',\n '[',\n '포켓몬스터',\n '극장판',\n ']',\n '포켓몬',\n '극장판',\n '13',\n '기',\n '|',\n '환영',\n '의',\n '패',\n '왕',\n '조로',\n '아크',\n '-',\n '리뷰',\n '-',\n '개',\n '나',\n '소나',\n '경찰',\n '이',\n '되면',\n '벌어지는',\n '난장판',\n '|',\n '결말',\n '포함',\n '네',\n '놈',\n '들',\n '모조리',\n '떨어',\n '뜨려',\n '주겠다',\n '시각장애인',\n '선수',\n '가',\n '죽기',\n '살기',\n '로',\n '금메달',\n '을',\n '딴',\n '이유',\n '는',\n '?',\n '[',\n '뭅뭅픽',\n ']',\n '형',\n 'l',\n '조정석',\n 'l',\n '도경수',\n 'l',\n '슬기로운',\n '의사',\n '생활',\n '<',\n '혐',\n '>',\n '명장',\n '면',\n '모음',\n '2',\n '.',\n 'zp',\n '천재',\n '와',\n '천재',\n '의',\n '두뇌',\n '싸움',\n '영화',\n '(',\n '셜록홈즈',\n '2',\n '편',\n '/',\n '결말',\n '포함',\n ')',\n '결말',\n '포함',\n '영국',\n '최고',\n '부자',\n '마',\n '!',\n '(',\n '불좀',\n '부치',\n '바라',\n '붉은',\n '독수리',\n '이벨타르',\n '와',\n '천년',\n '녹용',\n '제르네아스',\n '그리고',\n '분홍',\n '다이아',\n '디안시',\n '[',\n '포켓몬스터',\n '극장판',\n ']',\n '포켓몬',\n '극장판',\n '17',\n '기',\n '파괴',\n '의',\n '포켓몬',\n '과',\n '디안',\n '시',\n '-',\n '리뷰',\n '-',\n '사기꾼',\n '이',\n '얼마나',\n '무서운지',\n '보여주는',\n '영화',\n '내',\n '돈',\n '내놔',\n '요',\n '.',\n '죽은',\n '강아지',\n '를',\n '살려내고',\n '싶었던',\n ',',\n '소년',\n '의',\n '감동',\n '스토리',\n '[',\n '진솔한',\n '리뷰',\n '/',\n '프랑켄위니',\n ']',\n '.',\n '해피',\n '할로윈',\n '이',\n '젠',\n '감탄',\n '까지',\n '나오게',\n '만드는',\n '마블',\n '영화',\n '의',\n '편집',\n '!',\n ',',\n '마블',\n '의',\n '뒤통수',\n '장면',\n '들',\n '[',\n '영화리뷰',\n ']',\n '한순간',\n '의',\n '선택',\n '이',\n '대',\n '참사',\n '로',\n '이어진다면',\n '(',\n '결말',\n '포함',\n ')',\n '미스테리',\n '선택',\n '잘',\n '해라',\n '인',\n '싸가',\n '되고',\n '싶었던',\n '여자',\n '의',\n '무리수',\n '를',\n '다룬',\n '영화',\n '_',\n '부탁',\n '하',\n '나',\n '만들어줘',\n '가족',\n '과의',\n '갈등',\n '으로',\n '견딜',\n '수',\n '없을',\n '때',\n '꼭',\n '봐',\n '야하는',\n '추천',\n '영화',\n '가족',\n '이지만',\n '버리고',\n '싶다',\n '인간',\n '의',\n '가죽',\n '을',\n '수집',\n '하는',\n '게',\n '취미',\n '인',\n '싸이코',\n '(',\n '실화',\n '...)',\n '제작',\n '만',\n '2년',\n '국산',\n '하드코어',\n '영화',\n '를',\n '소개',\n '합니다',\n '회의',\n '중',\n '소혜',\n '가',\n '엄마',\n '의',\n '첫사랑',\n '을',\n '찾아',\n '일본',\n '으로',\n '떠나는',\n '영화',\n '윤희',\n '에게',\n '고질라',\n '대',\n '나방',\n '대',\n '괴수',\n '!!',\n '모스',\n '라',\n '와',\n '배트',\n '라',\n '!!',\n '[',\n 'HERO',\n 'TV',\n '-',\n '고질라',\n '#',\n '26',\n ']',\n 'Godzilla',\n 'King',\n 'of',\n 'the',\n 'Monster',\n 'Godzilla',\n 'VS',\n '.',\n 'Mothra',\n '고질라',\n 'vs',\n '/',\n 'L',\n '방대',\n '괴수',\n '무고',\n '한',\n '시민',\n '을',\n '노리는',\n '엽기',\n '적',\n '인',\n '경찰',\n '|',\n '결말',\n '포함',\n '최악',\n '의',\n '살인',\n '광',\n '경찰',\n \"'\",\n '베테',\n '랑',\n \"'\",\n '코',\n '멘',\n '터리',\n '리뷰',\n '종합',\n '_',\n '명장',\n '면',\n '/',\n '명대사',\n '/',\n '비하인',\n '드',\n '스토리',\n '_\"',\n '내',\n '가',\n '죄',\n '짓고',\n '살',\n '지',\n '말라',\n '그랬지',\n '?',\n 'ㅆㅂㅅㄲ',\n '야',\n '!!\"',\n '어이',\n '가',\n '없네',\n '트',\n '죄',\n '깃치',\n '말랬',\n '지',\n '!',\n '정체',\n '를',\n '숨기',\n '고',\n '조용히',\n '살던',\n '비밀요원',\n '을',\n '잘못',\n '건',\n '든',\n '범죄',\n '조직',\n '(',\n '결말',\n '포함',\n ')',\n '·',\n '영업',\n '시간',\n '끝났',\n '습니다',\n '!',\n '도경수',\n '얼굴',\n '씹고',\n '뜯고',\n '맛보고',\n '즐기고',\n '[',\n '뭅뭅픽',\n ']',\n '형',\n 'l',\n '조정석',\n 'l',\n '슬기로운',\n '의사',\n '생활',\n '도경수',\n '몰아',\n '보기',\n '-',\n '세계',\n '장님',\n '중',\n '에',\n '너',\n '가',\n '최고',\n '겁',\n '없이',\n '어둠',\n '의',\n '세계',\n '에',\n '발',\n '들였다가',\n 'X',\n '된',\n '고딩',\n '|',\n 'Netflix',\n '리뷰',\n '|',\n '인간',\n '수업',\n '(',\n 'Extracurricular',\n ')',\n '[',\n '뭅',\n '리뷰',\n ']',\n '김동희',\n '박주현',\n '정다빈',\n '남윤수',\n '(',\n '여기',\n '를',\n '자를',\n '까',\n '?',\n ')',\n '미니어처',\n '아저씨',\n '잘못',\n '했어요',\n 'ㅠㅠ',\n '영화',\n \"'\",\n '베놈',\n \"'\",\n '떡밥',\n '총',\n '정리',\n '낚시',\n '를',\n '하라',\n '니까',\n '강',\n '을',\n '들어올려',\n '보리',\n '는',\n '미친',\n '최강',\n '염력',\n '능력자',\n '가',\n '외계인',\n '과',\n '맞선다',\n '?',\n '(',\n '공',\n '말',\n '급',\n '능력자',\n ')',\n '엄마',\n '원',\n '계옥',\n '한',\n '방',\n '만',\n '쏴',\n '도',\n '돼요',\n '?',\n '하필',\n '연쇄',\n '살인마',\n '를',\n '생포',\n '한',\n '경찰',\n '들',\n '에게',\n '벌어진',\n '일',\n '[',\n '야한',\n '영화',\n '야한',\n '영상',\n '리뷰',\n '결말',\n '포함',\n '영화',\n '일본',\n '반응',\n ']',\n '★',\n '보여',\n '달라',\n '★#재미있는영화',\n '#',\n '반응',\n '#',\n '이유',\n '#',\n '총',\n '정리',\n '뭐라고',\n '?',\n '기',\n '20',\n '..',\n '라고',\n '?',\n '뭐',\n '?',\n '무려',\n '3천',\n '달러',\n '짜리',\n '키스',\n '가',\n '있다고',\n '?',\n '|',\n 'Netflix',\n '|',\n '투',\n '핫',\n '!',\n '(',\n 'Too',\n 'Hot',\n 'to',\n 'Handle',\n ')',\n '[',\n '뭅뭅픽',\n ']',\n '데이트',\n '예능',\n '|',\n '프란체스카',\n '해리',\n '000',\n '달러',\n '[',\n '영화리뷰',\n '결말',\n '포함',\n ']',\n '억울하게',\n '감옥',\n '갔다가',\n '초능력',\n '생긴',\n '남자',\n 'L',\n '가토',\n '르',\n '라니',\n '!',\n '?',\n '21',\n 'AHDILITI',\n '가',\n ...]"
     },
     "execution_count": 8,
     "metadata": {},
     "output_type": "execute_result"
    }
   ],
   "source": [
    "from collections import Counter\n",
    "from itertools import chain\n",
    "\n",
    "df_1_words = [okt.morphs(v) for v in df_1['names'].values]\n",
    "df_1_words = list(chain(*df_1_words))\n",
    "df_1_words\n",
    "\n",
    "df_2_words = [okt.morphs(v) for v in df_2['names'].values]\n",
    "df_2_words = list(chain(*df_2_words))\n",
    "df_2_words\n",
    "\n",
    "# df_3_words = [okt.morphs(v) for v in df_3['names'].values]\n",
    "# df_3_words = list(chain(*df_3_words))\n",
    "# df_3_words\n",
    "\n",
    "# df_4_words = [okt.morphs(v) for v in df_4['names'].values]\n",
    "# df_4_words = list(chain(*df_4_words))\n",
    "# df_4_words\n",
    "#\n",
    "# df_5_words = [okt.morphs(v) for v in df_5['names'].values]\n",
    "# df_5_words = list(chain(*df_5_words))\n",
    "# df_5_words"
   ],
   "metadata": {
    "collapsed": false,
    "pycharm": {
     "name": "#%%\n"
    }
   }
  },
  {
   "cell_type": "code",
   "execution_count": 9,
   "outputs": [],
   "source": [
    "count_words = Counter(df_1_words)\n",
    "res = {k: v for k, v in sorted(dict(count_words).items(), key=lambda item: item[1], reverse=True)}\n",
    "df_1_words_count = {k:v for k,v in res.items() if len(k) >= 2}\n",
    "\n",
    "count_words = Counter(df_2_words)\n",
    "res = {k: v for k, v in sorted(dict(count_words).items(), key=lambda item: item[1], reverse=True)}\n",
    "df_2_words_count = {k:v for k,v in res.items() if len(k) >= 2}\n",
    "\n",
    "# count_words = Counter(df_3_words)\n",
    "# res = {k: v for k, v in sorted(dict(count_words).items(), key=lambda item: item[1], reverse=True)}\n",
    "# df_3_words_count = {k:v for k,v in res.items() if len(k) >= 2}\n",
    "\n",
    "# count_words = Counter(df_4_words)\n",
    "# res = {k: v for k, v in sorted(dict(count_words).items(), key=lambda item: item[1], reverse=True)}\n",
    "# df_4_words_count = {k:v for k,v in res.items() if len(k) >= 2}\n",
    "#\n",
    "# count_words = Counter(df_5_words)\n",
    "# res = {k: v for k, v in sorted(dict(count_words).items(), key=lambda item: item[1], reverse=True)}\n",
    "# df_5_words_count = {k:v for k,v in res.items() if len(k) >= 2}"
   ],
   "metadata": {
    "collapsed": false,
    "pycharm": {
     "name": "#%%\n"
    }
   }
  },
  {
   "cell_type": "code",
   "execution_count": 11,
   "outputs": [],
   "source": [
    "df_words = list(df_1_words_count.keys()) + list(df_2_words_count.keys())\n",
    "df_words_count = Counter(df_words)"
   ],
   "metadata": {
    "collapsed": false,
    "pycharm": {
     "name": "#%%\n"
    }
   }
  },
  {
   "cell_type": "code",
   "execution_count": 16,
   "outputs": [
    {
     "data": {
      "text/plain": "['결말',\n '포함',\n '영화',\n '영화리뷰',\n '..',\n '에서',\n '하는',\n '남자',\n '리뷰',\n '으로',\n '이유',\n '여자',\n '사람',\n '에게',\n '벌어지는',\n '버린',\n '인간',\n '뭅뭅픽',\n '정리',\n '좀비',\n '!!',\n '지구',\n '천재',\n '명장',\n '최후',\n '되는',\n '어벤져스',\n '최고',\n '모음',\n '인류',\n '주의',\n '실화',\n '마블',\n '소녀',\n '방법',\n '충격',\n '세상',\n '있는',\n '우리',\n '하면',\n '이야기',\n '진짜',\n '엔드게임',\n '...',\n '장면',\n '인생',\n '100',\n '비밀',\n '미국',\n '최강',\n '까지',\n '10',\n '미친',\n '버리는',\n '스토리',\n '없는',\n '역대',\n '명대사',\n '괴물',\n '한국',\n '미래',\n '위해',\n '사랑',\n '모든',\n '시간',\n '전설',\n '병맛',\n '세계',\n '너무',\n '바이러스',\n '아이',\n '가지',\n '드라마',\n '가장',\n 'ㅋㅋㅋ',\n '추천',\n '극장판',\n '아이언맨',\n 'ㄷㄷ',\n '아들',\n '무비',\n '생기는',\n '외계인',\n '노스',\n '짱구',\n '인피니티',\n '??',\n '소년',\n '게임',\n '시리즈',\n '경찰',\n '반전',\n '로봇',\n 'VS',\n '영상',\n '범죄',\n '야한',\n '넷플릭스',\n 'vs',\n '보다',\n '][',\n '아빠',\n '절대',\n '악마',\n '전쟁',\n '안되는',\n '당신',\n '정체',\n '살인',\n '아내',\n '오늘',\n '공포',\n '되어',\n 'ㅋㅋ',\n 'VIEW',\n '잘못',\n '하고',\n '일진',\n '멸망',\n '엄마',\n '그녀',\n '보면',\n '벌어진',\n '미녀',\n '고질라',\n '만든',\n '고수',\n '일본',\n '비하인드',\n '등장',\n '생존',\n '시작',\n '남편',\n '액션',\n '만에',\n '우주',\n '코미디',\n '라고',\n '했던',\n '히어로',\n '납치',\n '소름',\n '부자',\n '학교',\n '정말',\n '한다',\n '조직',\n '가족',\n '능력',\n 'The',\n '여성',\n '싸이코패스',\n '되면',\n '복수',\n '초능력',\n '친구',\n '지금',\n '전직',\n '하게',\n '재벌',\n '이야',\n '실제',\n '스포',\n '배우',\n '교육',\n '어떻게',\n '건드린',\n '마을',\n '감옥',\n 'IQ',\n '보고',\n '예고편',\n '마동석',\n '무시',\n '슈트',\n '스릴러',\n '이런',\n '조커',\n '스파이더맨',\n '자신',\n 'TOP',\n '한테',\n '공개',\n '가진',\n '끔찍한',\n '동안',\n '개봉',\n '출신',\n '!!!',\n '명의',\n '팝콘',\n '이후',\n '새로운',\n '마지막',\n '부터',\n '소개',\n '한번',\n '최악',\n '연기',\n '지옥',\n '임신',\n '킬러',\n 'ㅎㄷㄷ',\n '결혼',\n '특수부대',\n '왕따',\n '이다',\n '혼자',\n '반응',\n '있다',\n '초능력자',\n '인형',\n '헐크',\n '무서운',\n '다시',\n '하나',\n '죽은',\n '전투',\n '보기',\n '같은',\n '50',\n '사는',\n '여기',\n '아치',\n '싸움',\n '분석',\n '숨겨진',\n '누구',\n '쓸어',\n '보는',\n '형사',\n '시켜',\n '30',\n '조폭',\n '머리',\n 'ㅠㅠ',\n '요원',\n '상위',\n '프릭',\n '삭제',\n '레전드',\n '요약',\n '갇혀',\n '하필',\n '그냥',\n '모르는',\n '거야',\n '감독',\n '고립',\n '선택',\n '도시',\n '이렇게',\n '주성치',\n '시즌',\n '존재',\n '떡밥',\n '거대',\n '탈출',\n '갑자기',\n '겨울왕국',\n '감염',\n '로맨스',\n '모두',\n '웃긴',\n 'ENG',\n '하지',\n '남녀',\n '때문',\n '200',\n '블랙',\n '탄생',\n '입니다',\n '진솔한',\n '않는',\n '보스',\n '모습',\n '기억',\n '이라고',\n '누가',\n '다른',\n '학생',\n '누나',\n '?!',\n '0.1%',\n '받은',\n '참사',\n '하루',\n '좋은',\n '20',\n '했다',\n '데드풀',\n '들이',\n '갱단',\n '무술',\n '교도소',\n '저지른',\n '디즈니',\n '하기',\n '이제',\n '타짜',\n '지능',\n '시킨',\n '인가',\n '신의',\n '지하',\n '주세요',\n '13',\n '생긴',\n '해석',\n '제작',\n '죽음',\n '기생충',\n '외계',\n '죽인',\n '합니다',\n '죽여',\n '라면',\n 'CG',\n '가면',\n '살인마',\n '한국영',\n '베스트',\n '봉준호',\n '바람',\n '밖에',\n '마녀',\n '피해',\n '토르',\n '엘사',\n '번째',\n '마스터',\n '마리',\n '재산',\n '순간',\n '15',\n '회사',\n '의사',\n '아파트',\n '일어난',\n '비하인',\n '암살',\n '해야',\n '부산',\n '박살',\n ';;',\n '제발',\n '하자',\n '명작',\n '어디',\n '진화',\n '함께',\n '죽어',\n '..?',\n '실수',\n '클라스',\n '???',\n '노래',\n '범죄자',\n '얼굴',\n '먹는',\n '돋는',\n '상어',\n '사연',\n '하정우',\n '해서',\n '괴수',\n '의미',\n '만드는',\n '있어',\n '전편',\n '보니',\n '전세계',\n '사실',\n '정도',\n '처음',\n '귀신',\n '비행기',\n '캡틴',\n '감동',\n '....',\n '쏘우',\n '직업',\n '보여주는',\n '직원',\n '무슨',\n '두목',\n '마피아',\n '!?',\n '목숨',\n '만원',\n '된다',\n '버렸다',\n '300',\n 'the',\n '할까',\n '사회',\n '무인도',\n '전부',\n '그리고',\n '100%',\n '엔딩',\n '행동',\n '중국',\n '주인공',\n '남친',\n '여친',\n '시골',\n '해외',\n '제일',\n '특수요원',\n '나쁜',\n '실험',\n '운명',\n '건드리면',\n '황정민',\n '유해진',\n '11',\n '만난',\n '최초',\n '14',\n '19',\n '빨리',\n '강제',\n '저주',\n '발견',\n '무기',\n '인공',\n '시키는',\n '어느',\n '범인',\n '아니',\n '얼마나',\n '아기',\n '상상',\n '사망',\n '일이',\n 'km',\n '갇힌',\n '생명체',\n '12',\n '일어나는',\n '고딩',\n '살아가는',\n '작품',\n '그것',\n '동물',\n '된다면',\n '슈퍼',\n '이병헌',\n '아무',\n '부부',\n 'Sub',\n '재난',\n '도둑',\n '일까',\n '파이널',\n '원작',\n '전체',\n '쿠키',\n '무조건',\n '먼저',\n '죄수',\n '당하는',\n '대한민국',\n '숨은',\n '무림',\n '특수',\n '먹고',\n '제로',\n '살아남은',\n '검사',\n '공주',\n '키스',\n '풀무',\n '해리포터',\n 'THE',\n '병기',\n '사건',\n '코믹',\n '어른',\n '그만',\n '킹덤',\n '송강호',\n '바로',\n '받는',\n '대로',\n '가십',\n '어떤',\n '아저씨',\n '모르고',\n '드디어',\n '극한',\n '감금',\n '능력자',\n '몰랐던',\n '촬영',\n '식인',\n '난리',\n '슈퍼히어로',\n '군대',\n '없이',\n '문제',\n '감히',\n '오브',\n '팬서',\n '인기',\n '캐릭터',\n '16',\n '죽는',\n '17',\n '벌인',\n '생활',\n '이식',\n '제대로',\n '샤크',\n '사냥',\n '살려',\n '때려',\n 'feat',\n '몸매',\n '리지',\n '망했다',\n '앤트맨',\n '알바',\n '자꾸',\n '않은',\n '10년',\n '없다',\n '신급',\n '은행',\n '500',\n '신체',\n 'BEST',\n '존잘',\n '당한',\n 'DC',\n '바다',\n '매일',\n '위험한',\n '강도',\n '변호사',\n '★#재미있는영화',\n '어벤져',\n '생각',\n '악당',\n '했다가',\n '유전자',\n '존예',\n '처럼',\n '21',\n '인데',\n '연애',\n 'My',\n '눈물',\n '조선',\n '24',\n '여동생',\n 'SF',\n '한국인',\n '나라',\n '형제',\n '오지',\n 'Godzilla',\n '쓰레기',\n '흑인',\n '조승우',\n '엽문',\n '꼬마',\n '군인',\n '파괴',\n '탈옥',\n '판타지',\n '1%',\n '유혹',\n '야하는',\n '완벽한',\n '이면',\n '짜리',\n '거지',\n '상류층',\n '고등학교',\n '함부로',\n '베테',\n '조작',\n '개쩌',\n '현실',\n '최민식',\n '만들어',\n '여고생',\n '했는데',\n '북한',\n '김혜수',\n '과학자',\n '인물',\n '마다',\n '알바생',\n '보여',\n '인질',\n '들어가면',\n '불한당',\n 'LI',\n '에요',\n '최대',\n '트랜스포머',\n 'of',\n '고전',\n '찬미',\n '죽는다',\n 'TV',\n '폭탄',\n '잡아먹는',\n '싸우는',\n '역사상',\n '홀로',\n '조용히',\n '다음',\n '강아지',\n '당하던',\n '여자친구',\n '천만',\n '대륙',\n '(?)',\n '몰래',\n '국가',\n '사라진',\n '부르는',\n '모험',\n '거인',\n '분노',\n '평범한',\n '40',\n '조져',\n '금수',\n '고등학생',\n '세요',\n '폭발',\n '이라',\n '연쇄',\n '한다고',\n '커플',\n '아버지',\n '무협',\n '몬스터',\n '시체',\n '됐다',\n '관객',\n '존윅',\n '작전',\n 'ㅋㅋㅋㅋ',\n '대신',\n '하던',\n '나와',\n '오빠',\n '이미',\n '최종',\n '절대로',\n '잡아',\n '시절',\n '이고',\n '프롬',\n '소리',\n '빌런',\n '잡는',\n '정예',\n '조진웅',\n '복싱',\n '러시아',\n '캡틴마블',\n '마약',\n '엄청난',\n '괴생명체',\n '대체',\n '행성',\n '있을까',\n 'King',\n 'HERO',\n '명문',\n '물고기',\n '수천',\n '감탄',\n '깡패',\n '영국',\n '부모',\n '동생',\n '할아버지',\n '거기',\n '잖아',\n '수명',\n '프랑스',\n '18',\n '직전',\n '습니다',\n '나오는',\n '종말',\n '4년',\n '생존자',\n '싸이코',\n '부대',\n '그런데',\n '교수',\n '있다면',\n '변화',\n '아가씨',\n '중독',\n '사용',\n '천사',\n '아카데미',\n '한다면',\n '만들어진',\n '대통령',\n '건드려',\n '사고',\n '터미네이터',\n '젊은',\n '기술',\n '치명',\n '불륜',\n '닥터',\n '죽이는',\n '후회',\n '방사',\n '상속',\n '이제훈',\n '끝판',\n '착한',\n '영웅',\n '미모',\n '인해',\n '28',\n '야할',\n '뱀파이어',\n '터리',\n '피닉스',\n '스톤',\n '노인',\n '설국열차',\n '슬픈',\n '공포영화',\n 'ㅎㅎ',\n '담배',\n '개무시',\n '변태',\n '나를',\n '인정',\n '준비',\n '아싸',\n '마음',\n '평생',\n '시대',\n '큐브',\n '그래',\n '반드시',\n '잃은',\n '사장',\n '신입',\n '보았다',\n '만렙',\n '킹스',\n '유일한',\n '아줌마',\n '주제',\n '대박',\n '초딩',\n '사이비',\n '스님',\n '엘리트',\n '돌아온',\n '자식',\n '가는',\n '견자단',\n '많이',\n '애니메이션',\n '걸린',\n '들어간',\n '하나로',\n '볼까',\n '환자',\n '과정',\n '디테일',\n '22',\n '공격',\n '강동원',\n '조종',\n '속도',\n '두번째',\n '먹어',\n '무엇',\n '기계',\n '받게',\n '냄새',\n '직접',\n '인지',\n '완벽',\n '그림',\n '온갖',\n '동네',\n '언제',\n '이지',\n '되자',\n '고기',\n '나도',\n '같이',\n '한석규',\n '드렸어',\n '좋아',\n '...?',\n '나타난',\n '다니는',\n '제작비',\n '선수',\n '데스티네이션',\n '과거',\n '과연',\n '현재',\n '우주선',\n '인터스텔라',\n '60',\n '음식',\n '월드',\n '각성',\n '호텔',\n '동양인',\n '클라',\n '1000',\n '이나',\n '스나이퍼',\n '천국',\n '쿵푸',\n '연예인',\n '주는',\n '농구',\n '이상',\n '전화',\n '돌아',\n '태어난',\n '사이코패스',\n '지만',\n '예능',\n '등급',\n '와의',\n '유니버스',\n '슈퍼맨',\n '만큼',\n '수준',\n '불량',\n '해결',\n '흥행',\n '..!',\n 'OI',\n '살인자',\n '이정재',\n '이건',\n '예쁜',\n '망한',\n '수상',\n '갖게',\n '떠보니',\n '작은',\n '세기',\n '210',\n '겪게',\n '반도',\n '멸망한',\n '전학생',\n '보여준',\n '어요',\n '간다',\n '고통',\n '씹어',\n '선배',\n '청년',\n '받으면',\n '부활',\n '몰아',\n '만나면',\n '드립니다',\n '서울',\n '형님',\n '정신',\n '의도',\n '00',\n '스타',\n '노숙자',\n '공간',\n '나온',\n '1년',\n ')(',\n '타고',\n '대결',\n '확정',\n '23',\n '장난감',\n '계속',\n '첫사랑',\n '1등',\n '정신병원',\n '결국',\n '가슴',\n '파파로티',\n '퍼진',\n '치는',\n 'AI',\n '파이팅',\n '미로',\n '이상한',\n '있었던',\n '포켓몬',\n '포켓몬스터',\n 'SUB',\n '순삭',\n '힘든',\n '패스',\n '있으면',\n '다리',\n '아이돌',\n '여배우',\n '180',\n 'zip',\n '특급',\n '초월',\n '사이코',\n '지배',\n '서민',\n '남성',\n '3000',\n '총알',\n '파워',\n '어딜',\n '있다고',\n '어린',\n '학년',\n '수상한',\n '출근',\n '종교',\n '마저',\n '있어요',\n '99',\n '류승범',\n '빠져',\n '한가운데',\n '봐야',\n '숨긴',\n '자기',\n '알아야',\n '겪는',\n '들은',\n '돼지',\n '여신',\n '추락',\n '새끼',\n '아니다',\n '이든',\n 'MOVIE',\n '160',\n '이랑',\n '왕자',\n '하라',\n '마이',\n '실력',\n '는데',\n '웹툰',\n '들을',\n '멸종',\n '선생님',\n '하다',\n '전학',\n '이름',\n '출연',\n '화성',\n '리즈',\n '사기',\n '멕시코',\n '스파이',\n '관계',\n '심은경',\n '치료',\n '주먹',\n '호아킨',\n '아쿠아',\n '신세계',\n '에는',\n '훔쳐',\n '너희',\n '없어',\n '고양이',\n '기록',\n '역사',\n '이용',\n '도착',\n '여행',\n '특집',\n '벌어진다고',\n '타임',\n '하늘',\n '미스터리',\n '할수',\n '맞아',\n '데드',\n '캠프',\n '프렌즈',\n ...]"
     },
     "execution_count": 16,
     "metadata": {},
     "output_type": "execute_result"
    }
   ],
   "source": [
    "df_filter_words = [k for k,v in df_words_count.items() if v >= 2]\n",
    "df_filter_words"
   ],
   "metadata": {
    "collapsed": false,
    "pycharm": {
     "name": "#%%\n"
    }
   }
  },
  {
   "cell_type": "code",
   "execution_count": 17,
   "outputs": [],
   "source": [
    "# df_1_words_count\n",
    "df_1_filtered_words_count = {k:v for k,v in df_1_words_count.items() if k not in df_filter_words and v >= 3}\n",
    "df_2_filtered_words_count = {k:v for k,v in df_2_words_count.items() if k not in df_filter_words and v >= 3}\n",
    "df_1_words_count = {k:v for k,v in df_1_words_count.items()}\n",
    "df_2_words_count = {k:v for k,v in df_2_words_count.items()}\n",
    "# df_3_filtered_words_count = {k:v for k,v in df_3_words_count.items() if k not in df_filter_words and v >= 3}\n",
    "# df_4_filtered_words_count = {k:v for k,v in df_4_words_count.items() if k not in df_filter_words and v >= 3}\n",
    "# df_5_filtered_words_count = {k:v for k,v in df_5_words_count.items() if k not in df_filter_words and v >= 3}"
   ],
   "metadata": {
    "collapsed": false,
    "pycharm": {
     "name": "#%%\n"
    }
   }
  },
  {
   "cell_type": "code",
   "execution_count": 18,
   "outputs": [
    {
     "data": {
      "text/plain": "{'결말': 1056,\n '포함': 1023,\n '영화': 809,\n '영화리뷰': 616,\n '..': 591,\n '에서': 421,\n '하는': 334,\n '남자': 327,\n '리뷰': 320,\n '으로': 271,\n '이유': 263,\n '여자': 253,\n '사람': 244,\n '에게': 236,\n '벌어지는': 226,\n '버린': 206,\n '인간': 197,\n '뭅뭅픽': 193,\n '정리': 193,\n '좀비': 191,\n '!!': 189,\n '지구': 144,\n '천재': 130,\n '명장': 126,\n '최후': 125,\n '되는': 125,\n '어벤져스': 120,\n '최고': 119,\n '모음': 116,\n '인류': 114,\n '주의': 113,\n '실화': 112,\n '마블': 112,\n '소녀': 107,\n '방법': 106,\n '충격': 104,\n '세상': 103,\n '있는': 102,\n '우리': 100,\n '하면': 100,\n '이야기': 96,\n '진짜': 94,\n '엔드게임': 94,\n '...': 93,\n '장면': 92,\n '인생': 89,\n '100': 88,\n '비밀': 88,\n '미국': 88,\n '최강': 87,\n '까지': 87,\n '10': 86,\n '미친': 85,\n '버리는': 82,\n '스토리': 82,\n '없는': 82,\n '역대': 81,\n '명대사': 81,\n '괴물': 80,\n '한국': 80,\n '미래': 80,\n '위해': 80,\n '사랑': 79,\n '모든': 79,\n '시간': 76,\n '전설': 76,\n '병맛': 73,\n '세계': 72,\n '너무': 72,\n '바이러스': 72,\n '아이': 71,\n '가지': 71,\n '드라마': 71,\n '가장': 71,\n 'ㅋㅋㅋ': 70,\n '추천': 70,\n '극장판': 70,\n '아이언맨': 69,\n 'ㄷㄷ': 68,\n '아들': 68,\n '무비': 67,\n '생기는': 65,\n '외계인': 65,\n '노스': 65,\n '짱구': 63,\n '인피니티': 62,\n '??': 61,\n '소년': 60,\n '게임': 60,\n '시리즈': 60,\n '경찰': 60,\n '반전': 60,\n '로봇': 60,\n 'VS': 60,\n '영상': 59,\n '범죄': 59,\n '야한': 59,\n '넷플릭스': 59,\n 'vs': 58,\n '보다': 58,\n '][': 58,\n '아빠': 57,\n '절대': 57,\n '악마': 55,\n '전쟁': 55,\n '안되는': 55,\n '당신': 55,\n '정체': 55,\n '살인': 54,\n '아내': 54,\n '오늘': 54,\n '공포': 54,\n '되어': 54,\n 'ㅋㅋ': 53,\n 'VIEW': 53,\n '잘못': 53,\n '하고': 53,\n '일진': 53,\n '멸망': 53,\n '엄마': 53,\n '그녀': 53,\n '보면': 52,\n '벌어진': 52,\n '미녀': 52,\n '고질라': 52,\n '만든': 51,\n '고수': 51,\n '일본': 51,\n '비하인드': 50,\n '등장': 50,\n '생존': 50,\n '시작': 50,\n '남편': 50,\n '액션': 50,\n '만에': 49,\n '우주': 49,\n '코미디': 49,\n '라고': 49,\n '했던': 49,\n '히어로': 48,\n '납치': 48,\n '소름': 48,\n '부자': 47,\n '학교': 47,\n '정말': 47,\n '한다': 47,\n '조직': 47,\n '가족': 47,\n '능력': 46,\n 'The': 46,\n '여성': 46,\n '싸이코패스': 45,\n '되면': 45,\n '복수': 45,\n '초능력': 44,\n '친구': 44,\n '지금': 44,\n '전직': 43,\n '하게': 43,\n '재벌': 43,\n '이야': 43,\n '실제': 43,\n '스포': 43,\n '배우': 42,\n '교육': 42,\n '어떻게': 42,\n '건드린': 42,\n '마을': 42,\n '감옥': 41,\n 'IQ': 41,\n '보고': 41,\n '예고편': 41,\n '마동석': 40,\n '무시': 40,\n '슈트': 40,\n '스릴러': 40,\n '이런': 40,\n '조커': 40,\n '스파이더맨': 40,\n '자신': 39,\n 'TOP': 39,\n '한테': 39,\n '공개': 39,\n '가진': 38,\n '끔찍한': 38,\n '동안': 38,\n '개봉': 38,\n '출신': 37,\n '!!!': 37,\n '명의': 37,\n '팝콘': 37,\n '이후': 37,\n '새로운': 37,\n '마지막': 37,\n '부터': 36,\n '소개': 36,\n '한번': 36,\n '최악': 35,\n '연기': 35,\n '지옥': 35,\n '임신': 35,\n '킬러': 35,\n 'ㅎㄷㄷ': 35,\n '결혼': 35,\n '특수부대': 34,\n '왕따': 34,\n '이다': 34,\n '혼자': 34,\n '반응': 34,\n '있다': 33,\n '초능력자': 33,\n '인형': 33,\n '헐크': 33,\n '무서운': 33,\n '다시': 32,\n '하나': 32,\n '죽은': 32,\n '전투': 32,\n '보기': 32,\n '같은': 32,\n '50': 32,\n '사는': 32,\n '여기': 32,\n '아치': 32,\n '싸움': 32,\n '분석': 32,\n '숨겨진': 31,\n '누구': 31,\n '쓸어': 31,\n '보는': 31,\n '형사': 31,\n '시켜': 31,\n '30': 31,\n '조폭': 30,\n '머리': 30,\n 'ㅠㅠ': 30,\n '요원': 30,\n '상위': 30,\n '프릭': 30,\n '삭제': 30,\n '레전드': 30,\n '요약': 30,\n '갇혀': 30,\n '하필': 29,\n '그냥': 29,\n '모르는': 29,\n '거야': 29,\n '감독': 29,\n '고립': 29,\n '선택': 29,\n '도시': 29,\n '이렇게': 29,\n '주성치': 29,\n '시즌': 29,\n '존재': 29,\n '떡밥': 29,\n '거대': 29,\n '탈출': 29,\n '갑자기': 29,\n '겨울왕국': 29,\n '감염': 29,\n '로맨스': 29,\n '모두': 29,\n '웃긴': 28,\n 'ENG': 28,\n '하지': 28,\n '남녀': 28,\n '때문': 28,\n '200': 28,\n '블랙': 28,\n '탄생': 28,\n '입니다': 28,\n '진솔한': 28,\n '않는': 28,\n '보스': 28,\n '모습': 27,\n '기억': 27,\n '이라고': 27,\n '누가': 27,\n '다른': 27,\n '학생': 27,\n '누나': 27,\n '?!': 27,\n '0.1%': 27,\n '받은': 27,\n '참사': 27,\n '하루': 27,\n '좋은': 27,\n '20': 27,\n '했다': 27,\n '데드풀': 27,\n '들이': 27,\n '갱단': 27,\n '무술': 26,\n '교도소': 26,\n '저지른': 26,\n '디즈니': 26,\n '하기': 26,\n '이제': 26,\n '타짜': 26,\n '지능': 26,\n '시킨': 26,\n '인가': 25,\n '신의': 25,\n '지하': 25,\n '주세요': 25,\n '13': 25,\n '생긴': 25,\n '해석': 25,\n '제작': 24,\n '죽음': 24,\n '기생충': 24,\n '외계': 24,\n '죽인': 24,\n '합니다': 24,\n '죽여': 24,\n '라면': 24,\n 'CG': 24,\n '가면': 24,\n '살인마': 24,\n '한국영': 24,\n '베스트': 24,\n '봉준호': 24,\n '바람': 24,\n '밖에': 24,\n '마녀': 24,\n '피해': 24,\n '토르': 24,\n '엘사': 24,\n '번째': 24,\n '마스터': 24,\n '마리': 23,\n '재산': 23,\n '순간': 23,\n '15': 23,\n '회사': 23,\n '의사': 23,\n '아파트': 23,\n '일어난': 23,\n '비하인': 23,\n '암살': 23,\n '해야': 23,\n '부산': 23,\n '박살': 23,\n ';;': 22,\n '제발': 22,\n '하자': 22,\n '명작': 22,\n '어디': 22,\n '진화': 22,\n '함께': 22,\n '죽어': 22,\n '..?': 22,\n '실수': 22,\n '클라스': 22,\n '???': 22,\n '노래': 22,\n '범죄자': 22,\n '얼굴': 22,\n '먹는': 22,\n '돋는': 22,\n '상어': 22,\n '사연': 22,\n '하정우': 22,\n '해서': 22,\n '괴수': 22,\n '의미': 21,\n '만드는': 21,\n '있어': 21,\n '전편': 21,\n '보니': 21,\n '전세계': 21,\n '사실': 21,\n '정도': 21,\n '처음': 21,\n '귀신': 21,\n '비행기': 21,\n '캡틴': 21,\n '감동': 21,\n '....': 21,\n '쏘우': 21,\n '직업': 20,\n '보여주는': 20,\n '직원': 20,\n '무슨': 20,\n '두목': 20,\n '마피아': 20,\n '!?': 20,\n '목숨': 20,\n '만원': 20,\n '된다': 20,\n '버렸다': 20,\n '300': 20,\n 'the': 20,\n '할까': 20,\n '사회': 20,\n '무인도': 20,\n '전부': 20,\n '그리고': 20,\n '100%': 20,\n '엔딩': 20,\n '행동': 19,\n '중국': 19,\n '주인공': 19,\n '남친': 19,\n '여친': 19,\n '시골': 19,\n '해외': 19,\n '제일': 19,\n '특수요원': 19,\n '나쁜': 19,\n '실험': 19,\n '운명': 19,\n '건드리면': 19,\n '황정민': 19,\n '유해진': 19,\n '11': 19,\n '만난': 19,\n '최초': 19,\n '14': 19,\n '19': 19,\n '빨리': 19,\n '강제': 19,\n '저주': 19,\n '발견': 19,\n '무기': 19,\n '인공': 19,\n '시키는': 19,\n '어느': 19,\n '범인': 19,\n '아니': 18,\n '얼마나': 18,\n '아기': 18,\n '상상': 18,\n '사망': 18,\n '일이': 18,\n 'km': 18,\n '갇힌': 18,\n '생명체': 18,\n '12': 18,\n '일어나는': 18,\n '고딩': 18,\n '살아가는': 18,\n '작품': 18,\n '그것': 18,\n '동물': 18,\n '된다면': 18,\n '슈퍼': 18,\n '이병헌': 18,\n '아무': 18,\n '부부': 18,\n 'Sub': 18,\n '재난': 18,\n '도둑': 18,\n '일까': 18,\n '파이널': 18,\n '원작': 18,\n '전체': 18,\n '쿠키': 18,\n '무조건': 17,\n '먼저': 17,\n '죄수': 17,\n '당하는': 17,\n '대한민국': 17,\n '숨은': 17,\n '무림': 17,\n '특수': 17,\n '먹고': 17,\n '제로': 17,\n '살아남은': 17,\n '검사': 17,\n '공주': 17,\n '키스': 17,\n '풀무': 17,\n '해리포터': 17,\n 'THE': 17,\n '병기': 17,\n '사건': 17,\n '코믹': 17,\n '어른': 17,\n '그만': 17,\n '킹덤': 17,\n '송강호': 17,\n '바로': 17,\n '받는': 17,\n '대로': 17,\n '가십': 17,\n '어떤': 17,\n '아저씨': 17,\n '모르고': 17,\n '드디어': 17,\n 'RESIDENT': 17,\n '극한': 16,\n '감금': 16,\n '능력자': 16,\n '몰랐던': 16,\n '촬영': 16,\n '식인': 16,\n '난리': 16,\n '슈퍼히어로': 16,\n '군대': 16,\n '없이': 16,\n '문제': 16,\n '감히': 16,\n '오브': 16,\n '팬서': 16,\n '인기': 16,\n '캐릭터': 16,\n '16': 16,\n '죽는': 16,\n '17': 16,\n '벌인': 16,\n '생활': 16,\n '이식': 16,\n '제대로': 16,\n '샤크': 16,\n '사냥': 16,\n '살려': 16,\n '때려': 16,\n 'feat': 16,\n '몸매': 16,\n '리지': 16,\n '망했다': 16,\n '앤트맨': 16,\n '알바': 15,\n '자꾸': 15,\n '않은': 15,\n '10년': 15,\n '없다': 15,\n '신급': 15,\n '은행': 15,\n '500': 15,\n '신체': 15,\n 'BEST': 15,\n '존잘': 15,\n '당한': 15,\n 'DC': 15,\n '바다': 15,\n '매일': 15,\n '위험한': 15,\n '강도': 15,\n '변호사': 15,\n '★#재미있는영화': 15,\n '어벤져': 15,\n '생각': 15,\n '악당': 15,\n '했다가': 15,\n '유전자': 15,\n '존예': 15,\n '처럼': 15,\n '21': 15,\n '인데': 15,\n '연애': 15,\n 'My': 15,\n '눈물': 15,\n '조선': 15,\n '24': 15,\n '여동생': 15,\n 'SF': 15,\n '한국인': 15,\n '나라': 15,\n '형제': 15,\n '오지': 15,\n 'Godzilla': 15,\n '쓰레기': 14,\n '흑인': 14,\n '조승우': 14,\n '엽문': 14,\n '꼬마': 14,\n '군인': 14,\n '파괴': 14,\n '탈옥': 14,\n '판타지': 14,\n '렸던': 14,\n '1%': 14,\n '유혹': 14,\n '야하는': 14,\n '완벽한': 14,\n '이면': 14,\n '짜리': 14,\n '거지': 14,\n '상류층': 14,\n '고등학교': 14,\n '함부로': 14,\n '베테': 14,\n '조작': 14,\n '개쩌': 14,\n '현실': 14,\n '최민식': 14,\n '만들어': 14,\n '여고생': 14,\n '했는데': 14,\n '북한': 14,\n '김혜수': 14,\n '과학자': 14,\n '인물': 14,\n '마다': 14,\n '알바생': 14,\n '보여': 14,\n '인질': 14,\n '들어가면': 14,\n '불한당': 14,\n 'LI': 14,\n '에요': 14,\n '최대': 14,\n '트랜스포머': 14,\n 'of': 14,\n '고전': 14,\n '찬미': 14,\n '죽는다': 14,\n 'TV': 14,\n '폭탄': 13,\n '잡아먹는': 13,\n '싸우는': 13,\n '역사상': 13,\n '홀로': 13,\n '조용히': 13,\n '다음': 13,\n '강아지': 13,\n '당하던': 13,\n '여자친구': 13,\n '천만': 13,\n '대륙': 13,\n '(?)': 13,\n '몰래': 13,\n '국가': 13,\n '사라진': 13,\n '부르는': 13,\n '모험': 13,\n '거인': 13,\n '분노': 13,\n '평범한': 13,\n '40': 13,\n '조져': 13,\n '금수': 13,\n '고등학생': 13,\n '세요': 13,\n '폭발': 13,\n '이라': 13,\n '연쇄': 13,\n '한다고': 13,\n '커플': 13,\n '아버지': 13,\n '무협': 13,\n '몬스터': 13,\n '시체': 13,\n '됐다': 13,\n '관객': 13,\n '존윅': 13,\n '작전': 13,\n 'ㅋㅋㅋㅋ': 13,\n '대신': 13,\n '하던': 13,\n '나와': 13,\n '오빠': 13,\n '이미': 13,\n '최종': 13,\n '절대로': 13,\n '잡아': 13,\n '시절': 13,\n '이고': 13,\n '프롬': 13,\n '소리': 13,\n '빌런': 13,\n '잡는': 13,\n '정예': 13,\n '조진웅': 13,\n '복싱': 13,\n '러시아': 13,\n '캡틴마블': 13,\n '마약': 13,\n '엄청난': 13,\n '괴생명체': 13,\n '대체': 13,\n '행성': 13,\n '있을까': 13,\n 'King': 13,\n 'HERO': 13,\n '명문': 12,\n '물고기': 12,\n '수천': 12,\n '감탄': 12,\n '깡패': 12,\n '영국': 12,\n '부모': 12,\n '동생': 12,\n '할아버지': 12,\n '거기': 12,\n '잖아': 12,\n '수명': 12,\n '프랑스': 12,\n '18': 12,\n '직전': 12,\n '습니다': 12,\n '나오는': 12,\n '정부': 12,\n '종말': 12,\n '4년': 12,\n '생존자': 12,\n '싸이코': 12,\n '부대': 12,\n '그런데': 12,\n '교수': 12,\n '있다면': 12,\n '변화': 12,\n '아가씨': 12,\n '중독': 12,\n '사용': 12,\n '천사': 12,\n '아카데미': 12,\n '한다면': 12,\n '만들어진': 12,\n '대통령': 12,\n '건드려': 12,\n '연봉': 12,\n '사고': 12,\n '터미네이터': 12,\n '젊은': 12,\n '기술': 12,\n '치명': 12,\n '불륜': 12,\n '닥터': 12,\n '죽이는': 12,\n '후회': 12,\n '방사': 12,\n '상속': 12,\n '이제훈': 12,\n '끝판': 12,\n '착한': 12,\n '영웅': 12,\n '미모': 12,\n '인해': 12,\n '28': 12,\n '야할': 12,\n '뱀파이어': 12,\n '터리': 12,\n '피닉스': 12,\n '스톤': 12,\n '노인': 12,\n '설국열차': 12,\n '슬픈': 12,\n '공포영화': 12,\n 'ㅎㅎ': 12,\n '레지던트이블': 12,\n '담배': 11,\n '개무시': 11,\n '변태': 11,\n '나를': 11,\n '인정': 11,\n '준비': 11,\n '아싸': 11,\n '마음': 11,\n '평생': 11,\n '설계': 11,\n '시대': 11,\n '큐브': 11,\n '그래': 11,\n '반드시': 11,\n '잃은': 11,\n '사장': 11,\n '신입': 11,\n '보았다': 11,\n '만렙': 11,\n '킹스': 11,\n '유일한': 11,\n '아줌마': 11,\n '주제': 11,\n '대박': 11,\n '초딩': 11,\n '사이비': 11,\n '스님': 11,\n '엘리트': 11,\n '돌아온': 11,\n '자식': 11,\n '가는': 11,\n '견자단': 11,\n '많이': 11,\n '애니메이션': 11,\n '걸린': 11,\n '들어간': 11,\n '하나로': 11,\n '볼까': 11,\n '환자': 11,\n '과정': 11,\n '디테일': 11,\n '22': 11,\n '공격': 11,\n '강동원': 11,\n '조종': 11,\n '속도': 11,\n '두번째': 11,\n '먹어': 11,\n '무엇': 11,\n '기계': 11,\n '받게': 11,\n '냄새': 11,\n '직접': 11,\n '인지': 11,\n '완벽': 11,\n '그림': 11,\n '온갖': 11,\n '동네': 11,\n '언제': 11,\n '이지': 11,\n '되자': 11,\n '고기': 11,\n '나도': 11,\n '같이': 11,\n '한석규': 11,\n '드렸어': 11,\n '좋아': 11,\n '...?': 11,\n '나타난': 11,\n '다니는': 11,\n '제작비': 11,\n '선수': 11,\n '데스티네이션': 11,\n '과거': 11,\n '과연': 11,\n '현재': 11,\n '우주선': 11,\n '인터스텔라': 11,\n '60': 11,\n 'EVIL': 11,\n '음식': 10,\n '월드': 10,\n '각성': 10,\n '호텔': 10,\n '동양인': 10,\n '클라': 10,\n '1000': 10,\n '이나': 10,\n '스나이퍼': 10,\n '천국': 10,\n '쿵푸': 10,\n '연예인': 10,\n '주는': 10,\n '농구': 10,\n '이상': 10,\n '전화': 10,\n '돌아': 10,\n '태어난': 10,\n '사이코패스': 10,\n '지만': 10,\n '예능': 10,\n '등급': 10,\n '와의': 10,\n '유니버스': 10,\n '슈퍼맨': 10,\n '만큼': 10,\n '수준': 10,\n '불량': 10,\n '해결': 10,\n '흥행': 10,\n '..!': 10,\n 'OI': 10,\n '살인자': 10,\n '이정재': 10,\n '이건': 10,\n '예쁜': 10,\n '망한': 10,\n '수상': 10,\n '갖게': 10,\n '떠보니': 10,\n '작은': 10,\n '세기': 10,\n '210': 10,\n '겪게': 10,\n '반도': 10,\n '멸망한': 10,\n '전학생': 10,\n '보여준': 10,\n '어요': 10,\n '간다': 10,\n '고통': 10,\n '씹어': 10,\n '선배': 10,\n '청년': 10,\n '받으면': 10,\n '부활': 10,\n '몰아': 10,\n '만나면': 10,\n '드립니다': 10,\n '서울': 10,\n '형님': 10,\n '정신': 10,\n '의도': 10,\n '00': 10,\n '스타': 10,\n '노숙자': 10,\n '공간': 10,\n '나온': 10,\n '1년': 10,\n ')(': 10,\n '타고': 10,\n '대결': 10,\n '확정': 10,\n '23': 10,\n '장난감': 10,\n '계속': 10,\n '첫사랑': 10,\n '1등': 10,\n '정신병원': 10,\n '결국': 10,\n '가슴': 10,\n '파파로티': 10,\n '퍼진': 10,\n '치는': 10,\n 'AI': 10,\n '파이팅': 10,\n '미로': 10,\n '이상한': 10,\n '있었던': 10,\n '포켓몬': 10,\n '포켓몬스터': 10,\n 'SUB': 9,\n '순삭': 9,\n '힘든': 9,\n '패스': 9,\n '있으면': 9,\n '다리': 9,\n '아이돌': 9,\n '여배우': 9,\n '180': 9,\n 'zip': 9,\n '특급': 9,\n '초월': 9,\n '사이코': 9,\n '지배': 9,\n '서민': 9,\n '남성': 9,\n '3000': 9,\n '총알': 9,\n '파워': 9,\n '어딜': 9,\n '있다고': 9,\n '어린': 9,\n '학년': 9,\n '수상한': 9,\n '출근': 9,\n '종교': 9,\n '마저': 9,\n '있어요': 9,\n '99': 9,\n '류승범': 9,\n '빠져': 9,\n '한가운데': 9,\n '봐야': 9,\n '숨긴': 9,\n '자기': 9,\n '알아야': 9,\n '겪는': 9,\n '들은': 9,\n '계급': 9,\n '돼지': 9,\n '여신': 9,\n '추락': 9,\n '새끼': 9,\n '아니다': 9,\n '이든': 9,\n 'MOVIE': 9,\n '160': 9,\n '이랑': 9,\n '왕자': 9,\n '하라': 9,\n '마이': 9,\n '실력': 9,\n '는데': 9,\n '웹툰': 9,\n '들을': 9,\n '멸종': 9,\n '선생님': 9,\n '하다': 9,\n '전학': 9,\n '이름': 9,\n '출연': 9,\n '화성': 9,\n '리즈': 9,\n '사기': 9,\n '멕시코': 9,\n '스파이': 9,\n '관계': 9,\n '심은경': 9,\n '야쿠자': 9,\n '치료': 9,\n '주먹': 9,\n '호아킨': 9,\n '아쿠아': 9,\n '신세계': 9,\n '에는': 9,\n '훔쳐': 9,\n '너희': 9,\n '없어': 9,\n '고양이': 9,\n '기록': 9,\n '역사': 9,\n '이용': 9,\n '도착': 9,\n '여행': 9,\n '특집': 9,\n ...}"
     },
     "execution_count": 18,
     "metadata": {},
     "output_type": "execute_result"
    }
   ],
   "source": [
    "df_1_words_count"
   ],
   "metadata": {
    "collapsed": false,
    "pycharm": {
     "name": "#%%\n"
    }
   }
  }
 ],
 "metadata": {
  "kernelspec": {
   "display_name": "PyCharm (Data_Analysis)",
   "language": "python",
   "name": "pycharm-67de8a7a"
  },
  "language_info": {
   "codemirror_mode": {
    "name": "ipython",
    "version": 3
   },
   "file_extension": ".py",
   "mimetype": "text/x-python",
   "name": "python",
   "nbconvert_exporter": "python",
   "pygments_lexer": "ipython3",
   "version": "3.7.7"
  },
  "pycharm": {
   "stem_cell": {
    "cell_type": "raw",
    "source": [
     "\"\"\"\n",
     "데이터 분석을 진행하기 위한 주피터 노트북입니다.\n",
     "\"\"\"\n"
    ],
    "metadata": {
     "collapsed": false
    }
   }
  }
 },
 "nbformat": 4,
 "nbformat_minor": 1
}